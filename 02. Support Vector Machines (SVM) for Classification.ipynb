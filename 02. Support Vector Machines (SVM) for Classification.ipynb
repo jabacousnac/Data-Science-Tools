{
 "cells": [
  {
   "cell_type": "code",
   "execution_count": 4,
   "id": "eb9c7920",
   "metadata": {},
   "outputs": [],
   "source": [
    "import numpy as np\n",
    "import random\n",
    "# For optimization\n",
    "from scipy.optimize import Bounds, BFGS                     \n",
    "from scipy.optimize import LinearConstraint, minimize   \n",
    "# For plotting\n",
    "import matplotlib.pyplot as plt\n",
    "import seaborn as sns\n",
    "# For generating dataset\n",
    "import sklearn.datasets as dt\n",
    "\n",
    "#credit: https://machinelearningmastery.com/method-of-lagrange-multipliers-the-theory-behind-support-vector-machines-part-3-implementing-an-svm-from-scratch-in-python/"
   ]
  },
  {
   "cell_type": "markdown",
   "id": "c10ae629",
   "metadata": {},
   "source": [
    "### Here we look at the simplest SVM. The goal is to separate one kind of data from another; the separatrix being a hyperplane that needs to be optimized for. In short, this is a classification tool that makes predictions for the category a new point belongs to.\n",
    "### They are also called maximum margin classifiers because the algorithm finds the separatrix that has the longest perpendicular distance to any one point. In your head, you should be picturing a blue cluster of points and a red cluster of points, and rotating a line until it hits no points, and then maximizing perpendicular distance to the nearest point."
   ]
  },
  {
   "cell_type": "code",
   "execution_count": 170,
   "id": "bed5bec3",
   "metadata": {},
   "outputs": [
    {
     "data": {
      "image/png": "[encoded data removed]",
      "text/plain": [
       "<Figure size 432x288 with 1 Axes>"
      ]
     },
     "metadata": {
      "needs_background": "light"
     },
     "output_type": "display_data"
    }
   ],
   "source": [
    "#create dataset with labels. \n",
    "X = np.array([[0, 3], [-1, 2], [1, 2], [2, 1], [3,3], [0, 0], [-1, -3], [-3, 1], [3, 1]])\n",
    "Y = np.array([1, 1, 1, 1, 1, -1, -1, -1, -1])\n",
    "\n",
    "plt.figure()\n",
    "sns.scatterplot(x=X[:,0], y=X[:, 1], style=Y, hue=Y, markers=['s', 'P'], palette=['magenta', 'cyan'])\n",
    "plt.xlabel('x')\n",
    "_=plt.ylabel('y')"
   ]
  },
  {
   "cell_type": "markdown",
   "id": "47097a7c",
   "metadata": {},
   "source": [
    "### sklearn has an SVM implementation. Let's use that to show what it does!\n",
    "#### StandardScaler() is used for pre-processing, gamma is Kernel coeff."
   ]
  },
  {
   "cell_type": "code",
   "execution_count": 114,
   "id": "f6b3694b",
   "metadata": {},
   "outputs": [
    {
     "data": {
      "image/png": "[encoded data removed]",
      "text/plain": [
       "<Figure size 432x288 with 1 Axes>"
      ]
     },
     "metadata": {
      "needs_background": "light"
     },
     "output_type": "display_data"
    }
   ],
   "source": [
    "from sklearn.pipeline import make_pipeline\n",
    "from sklearn.preprocessing import StandardScaler\n",
    "from sklearn.svm import SVC\n",
    "\n",
    "clf = make_pipeline(StandardScaler(), SVC(gamma='auto'))\n",
    "clf.fit(X, Y)\n",
    "X_test = np.linspace(-3, 3, 100)\n",
    "Y_test = np.linspace(-3, 3, 100)\n",
    "\n",
    "plt.figure()\n",
    "sns.scatterplot(x=X[:,0], y=X[:, 1], style=labels, hue=Y, markers=['s', 'P'], palette=['magenta', 'cyan'])\n",
    "for y in Y_test:\n",
    "    for x in X_test:\n",
    "        res = clf.predict([[x, y]])\n",
    "        if res[0] == -1:\n",
    "            plt.scatter([x], [y], c='yellow', alpha = 0.1)\n",
    "        else:\n",
    "            plt.scatter([x], [y], c='gray', alpha = 0.1)\n",
    "            continue\n",
    "plt.show()"
   ]
  },
  {
   "cell_type": "markdown",
   "id": "8cbbb51a",
   "metadata": {},
   "source": [
    "### The purpose of the above was just to illustrate how it works. But we want to build our own"
   ]
  },
  {
   "cell_type": "markdown",
   "id": "1784eada",
   "metadata": {},
   "source": [
    "## 3.1 Hard-margin"
   ]
  },
  {
   "cell_type": "markdown",
   "id": "8ff2049e",
   "metadata": {},
   "source": [
    "### Finding the hyperplane: define $\\vec{w}$ as the vector normal to the hyperplane which contains points $\\vec{x}$. $b\\|\\vec{w}\\|$ is the offset of hyperplane from the origin along normal vector $\\vec{w}$.\n",
    "### The hyperplane is the $\\vec{w}^T\\vec{x} - b = 0$\n",
    "### We can have two such hyperplanes, one for each category. These are $\\vec{w}^T\\vec{x} - b = 1$ and $\\vec{w}^T\\vec{x} - b = -1$.\n",
    "### Any point above the first belongs to category ''1'' and anything below the second belongs to category ''-1''\n",
    "### For each datapoint $i$, $y_i(\\vec{w}^Tx_i - b)\\geq 1$. This puts the constraint on datapoints to be on either side of the pair of hyperplanes. \n",
    "### We want to maximize margin: minimize $\\|w\\|^2_2$ subject to the above constraint."
   ]
  },
  {
   "cell_type": "markdown",
   "id": "00715c86",
   "metadata": {},
   "source": [
    "## 3.2 Soft-margin"
   ]
  },
  {
   "cell_type": "markdown",
   "id": "a026f521",
   "metadata": {},
   "source": [
    "### In the case of soft-margin, the two datasets can't be separated with just a straight line. \n",
    "### The problem becomes the minimizing of $\\|w\\|^2_2 + C \\Sigma_1^N \\zeta_i$, where $C$ is a regularization constant (large $C$ means we are back to the hard-margin problem), and $\\zeta_i$ quantifies error in classification. The constraint is  $y_i(\\vec{w}^Tx_i - b)\\geq 1-\\zeta_i.$\n",
    "### In optimization problems, if the primal consists of minimizing some function, the dual is the maximization of a different function. Using Lagrange multipliers, an objective function known as the Lagrange dual is found. It is $L_d = -\\frac{1}{2}\\Sigma_i\\Sigma_k\\alpha_i\\alpha_k y_i y_k (x_i^T)(x_k) + \\Sigma_i \\alpha_i$. $\\alpha$ is a vector of Lagrange multipliers. We need to solve for $\\alpha$ having constraining $\\Sigma_i \\alpha_iy_i = 0$. Minimize $L_d$ or maximize $-L_d$.\n",
    "### The hyperplane is $\\vec{w}^T\\vec{x} - b = 0$, where $\\vec{w} = \\Sigma_i \\alpha_iy_ix_i$. For a single support vector $s$, $b = \\vec{w}^T\\vec{w_s} - y_s$."
   ]
  },
  {
   "cell_type": "code",
   "execution_count": 137,
   "id": "84f1a116",
   "metadata": {},
   "outputs": [],
   "source": [
    "ZERO = 1e-7\n",
    "\n",
    "#let's start with the objective function\n",
    "def lagrange_dual(alpha, x, y):\n",
    "    res = 0\n",
    "    ind = np.where(alpha>ZERO)[0]\n",
    "    for i in ind:\n",
    "        for k in ind:\n",
    "            res += alpha[i]*alpha[k]*y[i]*y[k]*\\\n",
    "            np.dot(x[i,:], x[k, :])\n",
    "    res = 0.5*res - np.sum(alpha)\n",
    "    return res\n",
    "\n",
    "#tackle the linear constraint sum(alpha_i*y_i) = 0.\n",
    "linear_constraint = LinearConstraint(labels, [0], [0])\n",
    "\n",
    "#define bounds on alpha\n",
    "bnds = Bounds(np.zeros(X.shape[0]), np.full(X.shape[0], 10))\n",
    "\n",
    "#optimize to find alpha\n",
    "def optimize_alpha(x, y, C):\n",
    "    m, n = x.shape\n",
    "    # Initialize alphas to random values\n",
    "    alpha_0 = np.random.rand(m)*C\n",
    "    # Define the constraint\n",
    "    linear_constraint = LinearConstraint(y, [0], [0])\n",
    "    # Define the bounds\n",
    "    bnds = Bounds(np.zeros(m), np.full(m,C))\n",
    "    # Find the optimal value of alpha\n",
    "    result = minimize(lagrange_dual, alpha_0, args = (x,y),\\\n",
    "                      method = 'trust-constr', hess = BFGS(),\\\n",
    "                      constraints = [linear_constraint], bounds = bnds)\n",
    "    # The optimized value of alpha lies in result.x\n",
    "    alpha = result.x\n",
    "    return alpha\n",
    "\n",
    "#get b\n",
    "def get_b(alpha, y, x, w, C):\n",
    "    C_numeric = C-ZERO\n",
    "    # Indices of support vectors with alpha<C\n",
    "    ind = np.where((alpha>ZERO) & (alpha<C_numeric))[0]\n",
    "    b = 0.\n",
    "    for s in ind:\n",
    "        b+= np.dot(x[s,:],w) - y[s]\n",
    "    # Take the average\n",
    "    b /= len(ind)\n",
    "    return b\n",
    "\n",
    "#finally, get w\n",
    "def get_w(alpha, y, x):\n",
    "    m = len(x)\n",
    "    # Get all support vectors\n",
    "    w = np.zeros(x.shape[1])\n",
    "    for i in range(m):\n",
    "        w += alpha[i]*y[i]*x[i, :]\n",
    "    return w\n",
    "\n",
    "#predict\n",
    "def classify_points(x_test, w, b):\n",
    "    # Get y(x_test)\n",
    "    predicted_labels = np.sign(np.sum(x_test*w, axis = 1) - b)\n",
    "    # Assign a label arbitrarily a +1 if it = 0\n",
    "    predicted_labels[predicted_labels == 0] = 1\n",
    "    return predicted_labels\n",
    "\n",
    "def misclassification_rate(labels, predictions):\n",
    "    total = len(labels)\n",
    "    errors = sum(labels != predictions)\n",
    "    return errors/total*100"
   ]
  },
  {
   "cell_type": "code",
   "execution_count": 157,
   "id": "7cb89c8f",
   "metadata": {},
   "outputs": [
    {
     "name": "stderr",
     "output_type": "stream",
     "text": [
      "C:\\Users\\ajati\\anaconda3\\lib\\site-packages\\scipy\\optimize\\_hessian_update_strategy.py:182: UserWarning: delta_grad == 0.0. Check if the approximated function is linear. If the function is linear better results can be obtained by defining the Hessian as zero instead of using quasi-Newton approximations.\n",
      "  warn('delta_grad == 0.0. Check if the approximated '\n"
     ]
    }
   ],
   "source": [
    "alpha = optimize_alpha(X, Y, 5)\n",
    "w = get_w(alpha, Y, X)\n",
    "b = get_b(alpha, Y, X, w, 5)"
   ]
  },
  {
   "cell_type": "markdown",
   "id": "d90d8d06",
   "metadata": {},
   "source": [
    "### Run on some test data"
   ]
  },
  {
   "cell_type": "code",
   "execution_count": 211,
   "id": "e2a547ef",
   "metadata": {},
   "outputs": [
    {
     "data": {
      "image/png": "[encoded data removed]",
      "text/plain": [
       "<Figure size 432x288 with 1 Axes>"
      ]
     },
     "metadata": {
      "needs_background": "light"
     },
     "output_type": "display_data"
    }
   ],
   "source": [
    "plt.figure()\n",
    "sns.scatterplot(x=X[:,0], y=X[:, 1], style=Y, hue=Y, markers=['s', 'P'], palette=['magenta', 'cyan'])\n",
    "plt.xlabel('x')\n",
    "_=plt.ylabel('y')\n",
    "\n",
    "X_test = np.array([[-2, 3], [-1, 0], [1, 1.3], [1, 1.4], [1, 3], [2,-3], [2, 0], [3, -3], [-3, 0], [3, 2], [0, 1.5]])\n",
    "res = classify_points(X_test, w, b)\n",
    "sns.scatterplot(x=X_test[:,0], y=X_test[:, 1], style=res, hue=res, markers=['s', 'P'], palette=['red', 'blue'])\n",
    "plt.show()"
   ]
  },
  {
   "cell_type": "markdown",
   "id": "57cdec19",
   "metadata": {},
   "source": [
    "### Misclassification rate: for soft-margin, the presence of error means that we are not assuming the given labels are perfect. Assume there is some error in that. Classify using SVM, and then go back and report how much this error is, given this classification."
   ]
  },
  {
   "cell_type": "code",
   "execution_count": 214,
   "id": "b09135f7",
   "metadata": {},
   "outputs": [
    {
     "name": "stdout",
     "output_type": "stream",
     "text": [
      "11.11111111111111%\n"
     ]
    }
   ],
   "source": [
    "res = classify_points(X, w, b)\n",
    "mr = misclassification_rate(Y, res)\n",
    "print('{}%'.format(mr))"
   ]
  }
 ],
 "metadata": {
  "kernelspec": {
   "display_name": "Python 3",
   "language": "python",
   "name": "python3"
  },
  "language_info": {
   "codemirror_mode": {
    "name": "ipython",
    "version": 3
   },
   "file_extension": ".py",
   "mimetype": "text/x-python",
   "name": "python",
   "nbconvert_exporter": "python",
   "pygments_lexer": "ipython3",
   "version": "3.9.12"
  }
 },
 "nbformat": 4,
 "nbformat_minor": 5
}
