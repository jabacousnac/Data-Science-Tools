{
 "cells": [
  {
   "cell_type": "code",
   "execution_count": 51,
   "id": "0f5b8e7d",
   "metadata": {},
   "outputs": [],
   "source": [
    "import math\n",
    "import numpy as np\n",
    "import timeit\n",
    "from functools import reduce\n",
    "import matplotlib.pyplot as plt"
   ]
  },
  {
   "cell_type": "markdown",
   "id": "22fefa5a",
   "metadata": {},
   "source": [
    "### This one's a less exciting venture, but one that's important, regardless. You know how one defaults to writing a bunch of loops to get the job done by iterating over some list? Well, that's time consuming. Let's explore alternatives and also see what other cool tricks exist."
   ]
  },
  {
   "cell_type": "markdown",
   "id": "9ebeec24",
   "metadata": {},
   "source": [
    "### 8.1 Map"
   ]
  },
  {
   "cell_type": "markdown",
   "id": "22e50c3b",
   "metadata": {},
   "source": [
    "#### We want to normalize a list so the values lie between 0 and 1."
   ]
  },
  {
   "cell_type": "code",
   "execution_count": 26,
   "id": "cb84e52a",
   "metadata": {},
   "outputs": [
    {
     "name": "stdout",
     "output_type": "stream",
     "text": [
      "regular loop: \n",
      " t = 0.0001602000002094428 \n",
      "\n",
      "list comprehension: \n",
      " t = 0.00013060000014775142 \n",
      "\n",
      "map: \n",
      " t = 0.0001090999999178166 \n",
      "\n"
     ]
    }
   ],
   "source": [
    "x = [2, math.pi, 3.8, np.log(500), 25]\n",
    "\n",
    "#the usual looping\n",
    "start = timeit.default_timer()\n",
    "new_x = []\n",
    "for i in x:\n",
    "    new_x.append((i - min(x))/(max(x)-min(x)))\n",
    "time = timeit.default_timer() - start\n",
    "print('regular loop: \\n t = {}'.format(time), '\\n')\n",
    "\n",
    "#or better, list comprehension\n",
    "start = timeit.default_timer()\n",
    "new_x = [(i-min(x))/(max(x)-min(x)) for i in x]\n",
    "time = timeit.default_timer() - start\n",
    "print('list comprehension: \\n t = {}'.format(time), '\\n')\n",
    "\n",
    "#let's use map, now\n",
    "def norm_list(a, min_value, max_value):\n",
    "    norm_a = (a-min_value) / (max_value-min_value)\n",
    "    return norm_a\n",
    "start = timeit.default_timer()\n",
    "new_x = list(map(lambda a: norm_list(a, min(x), max(x)), x))\n",
    "time = timeit.default_timer() - start\n",
    "print('map: \\n t = {}'.format(time), '\\n')"
   ]
  },
  {
   "cell_type": "markdown",
   "id": "847f09a0",
   "metadata": {},
   "source": [
    "#### Run it as many times as you want, list comprehension is always going to be faster than regular loop. For map, unless one is using a built-in python function, the custom function will need to be written, first. Then the map operation can be done.\n",
    "#### Faster than LC\n",
    "It goes like map(lambda x: function(x, arg1,...), thing we want to loop over)"
   ]
  },
  {
   "cell_type": "markdown",
   "id": "5468a6a5",
   "metadata": {},
   "source": [
    "### 8.2 Map/Reduce"
   ]
  },
  {
   "cell_type": "markdown",
   "id": "a1127781",
   "metadata": {},
   "source": [
    "#### Cooler example. I have a list of numbers, I want to compute the average of the square of the elements. This is a two-step operation: square, then add up. Map can be used for the first part, reduce for the second. Here's how"
   ]
  },
  {
   "cell_type": "code",
   "execution_count": 48,
   "id": "98803440",
   "metadata": {},
   "outputs": [
    {
     "name": "stdout",
     "output_type": "stream",
     "text": [
      "('method1', 6.75, 0.0001299000000472006)\n",
      "('method2', 6.75, 6.650000023000757e-05)\n"
     ]
    }
   ],
   "source": [
    "Lnum = [1, 1, 2, 3, 5, 8, 13, 21]\n",
    "\n",
    "def numpy_method(L):\n",
    "    '''Finds average of the square of elements in a list'''\n",
    "    start = timeit.default_timer()\n",
    "    return 'method1', np.average(np.array(L)), timeit.default_timer() - start\n",
    "    \n",
    "def experto_method(L):\n",
    "    '''same as above, but even better.'''\n",
    "    start = timeit.default_timer()\n",
    "    sq = list(map(lambda x: x**2, Lnum))\n",
    "    ave = 1/len(sq) * reduce(lambda x, y: x + y, sq)\n",
    "    return 'method2', np.average(L), timeit.default_timer() - start\n",
    "    \n",
    "print(numpy_method(Lnum))\n",
    "print(experto_method(Lnum))"
   ]
  },
  {
   "cell_type": "markdown",
   "id": "666e05e3",
   "metadata": {},
   "source": [
    "#### Brilliant! Of course, the difference in time is marginal. But imagine i) if it does better than a numpy one-liner, how much better it would be than a loop, 2) how much more awesome it will be when applied to large datasets!"
   ]
  },
  {
   "cell_type": "markdown",
   "id": "bdb37867",
   "metadata": {},
   "source": [
    "#### I am curious. Let's try it again with the problem slightly modified. I want to plot the average of fibonacci numbers as a function of N. First, we have to write a helper function that generates the list of fibonacci numbers. You can do it the easy route, or the scary way. Let's try the scary way"
   ]
  },
  {
   "cell_type": "markdown",
   "id": "53987c7e",
   "metadata": {},
   "source": [
    "### 8.3 Map/Reduce and even Recursion :o"
   ]
  },
  {
   "cell_type": "markdown",
   "id": "d25aadf1",
   "metadata": {},
   "source": [
    "#### In recursion, somewhat analogous to mathematical induction, you begin with the base case. What if my list is empty, for instance? Then once that condition is fulfilled, every other condition should resemble each other and be covered in 1-2 or so if and elif cases. The most general case makes a callback to the function itself. Now that I think about it, there is some semblance of self-similarity or fractality involved here..."
   ]
  },
  {
   "cell_type": "code",
   "execution_count": 100,
   "id": "ee471662",
   "metadata": {},
   "outputs": [
    {
     "name": "stdout",
     "output_type": "stream",
     "text": [
      "[0, 1, 1, 2, 3, 5, 8, 13, 21, 34, 55, 89, 144, 233, 377, 610, 987, 1597, 2584]\n",
      "usual: 0.01942719999988185\n",
      "with map/reduce: 0.014011799999934738\n"
     ]
    },
    {
     "data": {
      "image/png": "[encoded data removed]",
      "text/plain": [
       "<Figure size 432x288 with 1 Axes>"
      ]
     },
     "metadata": {
      "needs_background": "light"
     },
     "output_type": "display_data"
    },
    {
     "data": {
      "image/png": "[encoded data removed]",
      "text/plain": [
       "<Figure size 432x288 with 1 Axes>"
      ]
     },
     "metadata": {
      "needs_background": "light"
     },
     "output_type": "display_data"
    }
   ],
   "source": [
    "def generate_fibonacci(n):\n",
    "    if n <= 0:\n",
    "        return []\n",
    "    elif n == 1:\n",
    "        return [0]\n",
    "    elif n == 2:\n",
    "        return [0,1]\n",
    "    else:\n",
    "        out = generate_fibonacci(n-1)\n",
    "        out.append(out[-1] + out[-2]) #sum up the last two elements\n",
    "        return out\n",
    "print(generate_fibonacci(19))\n",
    "\n",
    "def get_ave(L):\n",
    "    return sum(L)/len(L)\n",
    "\n",
    "#Now, we want to use our map/reduce skills for the purpose of plotting up averages\n",
    "#first, the regular way\n",
    "start = timeit.default_timer()\n",
    "fig, ax = plt.subplots()\n",
    "X, Y = [], []\n",
    "for i in range(2, 25):\n",
    "    X.append(i)\n",
    "    Y.append(np.average(np.array(generate_fibonacci(i))))\n",
    "ax.scatter(X, Y, marker = '^', c='hotpink')\n",
    "ax.set_xlabel('n')\n",
    "ax.set_ylabel('ave')\n",
    "print('usual:', timeit.default_timer()-start)\n",
    "    \n",
    "#now, all of this but with map/reduce\n",
    "start = timeit.default_timer()\n",
    "fig, ax = plt.subplots()\n",
    "X = list(range(2, 25))\n",
    "Y = list(map(lambda i: get_ave(generate_fibonacci(i)), X))\n",
    "ax.scatter(X, Y, marker = '^', c='lime')\n",
    "ax.set_xlabel('n')\n",
    "ax.set_ylabel('ave')\n",
    "print('with map/reduce:', timeit.default_timer()-start)"
   ]
  },
  {
   "cell_type": "markdown",
   "id": "36e318c4",
   "metadata": {},
   "source": [
    "#### This is a cool example because often we are solving similar problems, where the iterator is the dependent variable and then the y axis is some sum or average. "
   ]
  },
  {
   "cell_type": "markdown",
   "id": "87bebc6e",
   "metadata": {},
   "source": [
    "### 8.4 Set"
   ]
  },
  {
   "cell_type": "code",
   "execution_count": 102,
   "id": "541818f2",
   "metadata": {},
   "outputs": [
    {
     "data": {
      "text/plain": [
       "{'a', 'c', 'd'}"
      ]
     },
     "execution_count": 102,
     "metadata": {},
     "output_type": "execute_result"
    }
   ],
   "source": [
    "list1 = ['a', 'b', 'c', 'd']\n",
    "list2 = ['alpha', 'b', 'gamma']\n",
    "set(list1) - set(list2)"
   ]
  },
  {
   "cell_type": "markdown",
   "id": "61b87253",
   "metadata": {},
   "source": [
    "#### Dare I say more? That's it. Set finds the difference, the elements of the inverse of the intersection"
   ]
  },
  {
   "cell_type": "code",
   "execution_count": 103,
   "id": "2e893506",
   "metadata": {},
   "outputs": [
    {
     "data": {
      "text/plain": [
       "{'alpha', 'gamma'}"
      ]
     },
     "execution_count": 103,
     "metadata": {},
     "output_type": "execute_result"
    }
   ],
   "source": [
    "set(list2) - set(list1)"
   ]
  },
  {
   "cell_type": "markdown",
   "id": "d8173195",
   "metadata": {},
   "source": [
    "#### Works the other way too."
   ]
  },
  {
   "cell_type": "markdown",
   "id": "31cbfc97",
   "metadata": {},
   "source": [
    "### 8.5 Zip\n",
    "#### This one is useful for assigning a key, value sort of pair, just like in a dictionary. "
   ]
  },
  {
   "cell_type": "code",
   "execution_count": 116,
   "id": "7f20c9a2",
   "metadata": {},
   "outputs": [
    {
     "name": "stdout",
     "output_type": "stream",
     "text": [
      "[(0, 'Jeffrey'), (1, 'Ted'), (2, 'Lizzy'), (3, 'Charles'), (4, 'Jack'), (5, 'Wayne')]\n"
     ]
    }
   ],
   "source": [
    "list1 = [0, 1, 2, 3, 4, 5]\n",
    "list2 = ['Jeffrey', 'Ted', 'Lizzy', 'Charles', 'Jack', 'Wayne']\n",
    "combined = list(zip(list1, list2))\n",
    "print(combined)"
   ]
  },
  {
   "cell_type": "markdown",
   "id": "a19b3575",
   "metadata": {},
   "source": [
    "#### There you go! Pretty neat. My first thought would have been, hey, let me just make a dictionary. But here, look, way simpler.\n",
    "And you can slice and index this list as you wish"
   ]
  },
  {
   "cell_type": "markdown",
   "id": "d67794b2",
   "metadata": {},
   "source": [
    "### This one will blow your mind. \n",
    "### 8.6 Function Chaining"
   ]
  },
  {
   "cell_type": "markdown",
   "id": "65d68907",
   "metadata": {},
   "source": [
    "### We will use some of what we've learned so far and bundle them in a cool, pythonic way. It improves readibility, as well, one could argue"
   ]
  },
  {
   "cell_type": "code",
   "execution_count": 139,
   "id": "2bf270bc",
   "metadata": {},
   "outputs": [
    {
     "name": "stdout",
     "output_type": "stream",
     "text": [
      "('Jeffrey was 34 years old when he/she died', 'Ted was 42 years old when he/she died', 'Lizzy was 66 years old when he/she died')\n"
     ]
    }
   ],
   "source": [
    "#back to our serial killer list\n",
    "names = ['Jeffrey', 'Ted', 'Lizzy', 'Charles', 'Jack']\n",
    "ages = [34, 42, 66, 83, float('nan'), 52]\n",
    "result = reduce(\n",
    "    lambda acc, func: func(acc),\n",
    "    [\n",
    "        zip(names, ages),  #first, combine\n",
    "        lambda data: filter(lambda x: x[1] < 69, data),  #filter based on age\n",
    "        lambda filtered_data: map(lambda x: f\"{x[0]} was {x[1]} years old when he/she died\", filtered_data), #formatted string\n",
    "        tuple #convert list to a tuple\n",
    "    ]\n",
    ")\n",
    "print(result)"
   ]
  }
 ],
 "metadata": {
  "kernelspec": {
   "display_name": "Python 3",
   "language": "python",
   "name": "python3"
  },
  "language_info": {
   "codemirror_mode": {
    "name": "ipython",
    "version": 3
   },
   "file_extension": ".py",
   "mimetype": "text/x-python",
   "name": "python",
   "nbconvert_exporter": "python",
   "pygments_lexer": "ipython3",
   "version": "3.9.12"
  }
 },
 "nbformat": 4,
 "nbformat_minor": 5
}
