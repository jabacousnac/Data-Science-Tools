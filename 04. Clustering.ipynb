{
 "cells": [
  {
   "cell_type": "markdown",
   "id": "1c87e1b7",
   "metadata": {},
   "source": [
    "## 4.1 K-means Clustering"
   ]
  },
  {
   "cell_type": "markdown",
   "id": "2c4d4bec",
   "metadata": {},
   "source": [
    "### Clustering is the act of grouping datapoints that resemble one another in some parameter space. Let's start with k-means clustering, a widely used technique.\n"
   ]
  },
  {
   "cell_type": "markdown",
   "id": "4a069329",
   "metadata": {},
   "source": [
    "### 1. Choose the number of clusters $k$\n",
    "### 2. Initialize $k$ centroids randomly.\n",
    "### 3. Go through all datapoints and assign them to the centroid that is nearest.\n",
    "### 4. Re-position each centroid. For each one, calculate the average all those data points that belong to that centroid. That mean is the new position.\n",
    "### Repeat steps 3 and 4 until new position of centroid doesn't change by some threshold.\n",
    "### k means ++ might lead to faster convergence, if instead of randomly assigning the centroids initially, the maximally distant data point to a first random centroid is chosen as the second centroid, and so on. We will do that and well, and explore convergence."
   ]
  },
  {
   "cell_type": "code",
   "execution_count": 181,
   "id": "49695da4",
   "metadata": {},
   "outputs": [],
   "source": [
    "import random\n",
    "import numpy as np\n",
    "import matplotlib.pyplot as plt"
   ]
  },
  {
   "cell_type": "code",
   "execution_count": 182,
   "id": "5ed7f080",
   "metadata": {},
   "outputs": [],
   "source": [
    "#our dataset\n",
    "np.random.seed(33)\n",
    "x = [5 + np.random.uniform(-2,2) for i in range(20)] #can span 3-7\n",
    "y = [5 + np.random.uniform(-2,2) for i in range(20)] \n",
    "x += [6 + np.random.uniform(-1,1) for i in range(20)] #can span 5-7 for some overlap\n",
    "y += [6 + np.random.uniform(-1,1) for i in range(20)]\n",
    "x += [8 + np.random.uniform(0,2) for i in range(20)] #outlier cluster\n",
    "y += [8 + np.random.uniform(0,2) for i in range(20)]"
   ]
  },
  {
   "cell_type": "code",
   "execution_count": 158,
   "id": "04288d91",
   "metadata": {},
   "outputs": [],
   "source": [
    "def initialize_centroids(k, x, y):\n",
    "    xmin, ymin, xmax, ymax = min(x), min(y), max(x), max(y)\n",
    "    lim = [xmin, ymin, xmax, ymax]\n",
    "    xmin, ymin, xmax, ymax = lim[0], lim[1], lim[2], lim[3]\n",
    "    centroids = []\n",
    "    for i in range(k):\n",
    "        randx = np.random.uniform(xmin, xmax)\n",
    "        randy = np.random.uniform(ymin, ymax)\n",
    "        centroids.append([randx, randy])\n",
    "    return centroids"
   ]
  },
  {
   "cell_type": "code",
   "execution_count": 167,
   "id": "e944bf40",
   "metadata": {},
   "outputs": [
    {
     "data": {
      "image/png": "[encoded data removed]",
      "text/plain": [
       "<Figure size 432x288 with 1 Axes>"
      ]
     },
     "metadata": {
      "needs_background": "light"
     },
     "output_type": "display_data"
    }
   ],
   "source": [
    "plt.scatter(x, y, marker = 'o', facecolor = 'hotpink', edgecolor = 'k', label = 'data')\n",
    "centroids =  initialize_centroids(3, x, y)\n",
    "for pair in centroids:\n",
    "    plt.scatter([pair[0]], [pair[1]], c = 'y', marker = 'x', label = 'centroids')\n",
    "plt.xlabel('x')\n",
    "plt.ylabel('y');"
   ]
  },
  {
   "cell_type": "code",
   "execution_count": 163,
   "id": "0291a6f4",
   "metadata": {},
   "outputs": [],
   "source": [
    "def get_dist(x, y, xq, yq):\n",
    "    return (y-yq)**2 + (x-xq)**2 #euclidean distance squared\n",
    "    #(no need to take square root to avoid doing extra calculation)\n",
    "\n",
    "def generate_centroids(k, x, y, labels):\n",
    "    centroids = []\n",
    "    for i in range(k):\n",
    "        #i is the centroid number and we need to pick the indices from labels\n",
    "        indices = [j for j in range(len(labels)) if labels[j]==i]\n",
    "        mean_x = np.mean([x[j] for j in indices])\n",
    "        mean_y = np.mean([y[j] for j in indices])\n",
    "        centroids.append([mean_x, mean_y])\n",
    "    return centroids\n",
    "\n",
    "def kmeans(k, x, y):\n",
    "    \n",
    "    centroids = initialize_centroids(k, x, y) #initial centroids\n",
    "    labels = [] # a list that will tell us which centroid datapoints belong to\n",
    "        #it should have length = len(x)\n",
    "    \n",
    "    disp_list = [21.]\n",
    "    disp = 21.\n",
    "    while disp > 0.001:\n",
    "    \n",
    "        labels = []\n",
    "        for i in range(len(x)):\n",
    "\n",
    "            xi = x[i]\n",
    "            yi = y[i]\n",
    "            min_dist = 10000\n",
    "            for j in range(k):\n",
    "                dist = get_dist(xi, yi, centroids[j][0], centroids[j][1])\n",
    "                if dist < min_dist:\n",
    "                    min_dist = dist\n",
    "                    chosen_centroid = j\n",
    "                else:\n",
    "                    continue\n",
    "\n",
    "            labels.append(chosen_centroid)\n",
    "        new_centroids = generate_centroids(k, x, y, labels)\n",
    "\n",
    "        disp = np.sum([(centroids[i][0]-new_centroids[i][0])**2 +\\\n",
    "                (centroids[i][1]-new_centroids[i][1])**2 \\\n",
    "                       for i in range(k)])\n",
    "        disp_list.append(disp)\n",
    "\n",
    "        centroids = new_centroids\n",
    "        \n",
    "    return labels, centroids, disp_list \n",
    "\n",
    "#returned the following:\n",
    "    #what cluster particles belong to\n",
    "    #location of centroids\n",
    "    #err"
   ]
  },
  {
   "cell_type": "code",
   "execution_count": 161,
   "id": "cd345a87",
   "metadata": {
    "scrolled": false
   },
   "outputs": [
    {
     "data": {
      "image/png": "[encoded data removed]",
      "text/plain": [
       "<Figure size 432x432 with 2 Axes>"
      ]
     },
     "metadata": {
      "needs_background": "light"
     },
     "output_type": "display_data"
    }
   ],
   "source": [
    "out = kmeans(3, x, y);\n",
    "labels = out[0]\n",
    "centroids = out[1]\n",
    "err = out[2]\n",
    "\n",
    "fig, [ax0, ax1] = plt.subplots(2, figsize = (6,6))\n",
    "for pair in centroids:\n",
    "    ax0.scatter([pair[0]], [pair[1]], c = 'r', marker = 'x', label = 'centroids')\n",
    "col = ['c', 'm', 'y']\n",
    "for i in range(len(labels)):\n",
    "    c = col[labels[i]]\n",
    "    ax0.scatter([x[i]], [y[i]], marker = 'o', facecolor = c, edgecolor = 'k', label = 'data')\n",
    "ax0.set_xlabel('x')\n",
    "ax0.set_ylabel('y')\n",
    "ax0.set_title('Cluster')\n",
    "ax1.set_title('Convergence')\n",
    "ax1.set_ylabel('err')\n",
    "ax1.set_xlabel('n')\n",
    "ax1.plot(err[1:], 'g.-')\n",
    "plt.tight_layout()"
   ]
  },
  {
   "cell_type": "markdown",
   "id": "1866b18d",
   "metadata": {},
   "source": [
    "### 4.1.1 Initialize ++"
   ]
  },
  {
   "cell_type": "code",
   "execution_count": 179,
   "id": "abb1339f",
   "metadata": {},
   "outputs": [
    {
     "data": {
      "image/png": "[encoded data removed]",
      "text/plain": [
       "<Figure size 432x288 with 1 Axes>"
      ]
     },
     "metadata": {
      "needs_background": "light"
     },
     "output_type": "display_data"
    }
   ],
   "source": [
    "def initialize_centroids_pp(k, x, y):\n",
    "    centroids = initialize_centroids(1, x, y) #the first centroid will be random\n",
    "    for i in range(1, k):\n",
    "        mean = mean_of_prev(centroids)\n",
    "        xq, yq = mean[0], mean[1]\n",
    "        dist_list = [(x[i]-xq)**2 + (y[i]-yq)**2 for i in range(len(x))]\n",
    "        index = dist_list.index(max(dist_list))\n",
    "        curr_centroid = [x[index], y[index]]\n",
    "        centroids.append(curr_centroid)\n",
    "    return centroids\n",
    "\n",
    "def mean_of_prev(centroids):\n",
    "    xmean = np.mean([centroids[i][0] for i in range(len(centroids))])\n",
    "    ymean = np.mean([centroids[i][1] for i in range(len(centroids))])\n",
    "    return xmean, ymean\n",
    "\n",
    "plt.scatter(x, y, marker = 'o', facecolor = 'hotpink', edgecolor = 'k', label = 'data')\n",
    "centroids =  initialize_centroids_pp(3, x, y)\n",
    "for pair in centroids:\n",
    "    plt.scatter([pair[0]], [pair[1]], c = 'y', marker = 'x', label = 'centroids')\n",
    "plt.xlabel('x')\n",
    "plt.ylabel('y')\n",
    "plt.title('dataset with centroids maximally distant');"
   ]
  },
  {
   "cell_type": "markdown",
   "id": "f2f9e155",
   "metadata": {},
   "source": [
    "## 4.2 Gaussian Mixture Model (GMM)"
   ]
  },
  {
   "cell_type": "markdown",
   "id": "7a8f0c40",
   "metadata": {},
   "source": [
    "### If we have a cluster of points, we can under some assumptions imagine that each cluster was created as a result of a Gaussian distribution. So if we have $k$ clusters, we may then think of the dataset as being a collection containing data from $k$ Gaussian distributions."
   ]
  },
  {
   "cell_type": "markdown",
   "id": "85069439",
   "metadata": {},
   "source": [
    "### Rather than going in detail, we will simply use sci-kit learn's built-in module to execute GMM"
   ]
  },
  {
   "cell_type": "code",
   "execution_count": 201,
   "id": "1403a0a4",
   "metadata": {},
   "outputs": [
    {
     "name": "stdout",
     "output_type": "stream",
     "text": [
      "GMM means: [[9.17897067 9.23025525]\n",
      " [5.52860359 6.07808206]\n",
      " [4.93439389 3.86820286]]\n",
      "\t\n",
      "[1 2 1 2 2 2 1 2 1 1 1 1 2 2 2 2 1 2 2 1 1 1 1 1 1 1 1 1 1 1 1 1 1 1 1 1 1\n",
      " 1 1 1 0 0 0 0 0 0 0 0 0 0 0 0 0 0 0 0 0 0 0 0]\n"
     ]
    }
   ],
   "source": [
    "from sklearn.mixture import GaussianMixture\n",
    "\n",
    "##let's use the same data (x,y)\n",
    "X = np.array([x, y]).T\n",
    "gm = GaussianMixture(n_components=3, random_state=0).fit(X) \n",
    "    #there is an init_params kwd that can be set to k-means, for instance\n",
    "\n",
    "print('GMM means: {}'.format(gm.means_))\n",
    "\n",
    "print('\\t')\n",
    "\n",
    "print(gm.predict(X))"
   ]
  },
  {
   "cell_type": "code",
   "execution_count": 200,
   "id": "131786bf",
   "metadata": {},
   "outputs": [
    {
     "data": {
      "image/png": "[encoded data removed]",
      "text/plain": [
       "<Figure size 432x288 with 1 Axes>"
      ]
     },
     "metadata": {
      "needs_background": "light"
     },
     "output_type": "display_data"
    }
   ],
   "source": [
    "fig, ax = plt.subplots()\n",
    "\n",
    "for pair in gm.means_:\n",
    "    ax.scatter([pair[0]], [pair[1]], c = 'r', marker = 'x', label = 'centroids')\n",
    "    \n",
    "col = ['c', 'm', 'y']\n",
    "labels = gm.predict(X)\n",
    "\n",
    "for i in range(len(x)):\n",
    "    c = col[labels[i]]\n",
    "    ax.scatter([x[i]], [y[i]], marker = 'o', facecolor = c, edgecolor = 'k', label = 'data')\n",
    "    \n",
    "ax.set_xlabel('x')\n",
    "ax.set_ylabel('y')\n",
    "ax.set_title('GMM results');"
   ]
  },
  {
   "cell_type": "markdown",
   "id": "02b19d63",
   "metadata": {},
   "source": [
    "### Before leaving it at that, let's just gain a sense of the algorithm behind GMM. It is called Expectation Maximization (EM)"
   ]
  },
  {
   "cell_type": "markdown",
   "id": "0834da5d",
   "metadata": {},
   "source": [
    "### There is the E-step followed by the M-step. In GMM, it is all a matter of estimating the means and variances of the gaussian distributions that we think generated our data. So, in the E-step, we estimate these parameters by looking at the data. The initial estimate could even be totally random. In the M-step, we optimize for these parameters by carrying out MLE."
   ]
  }
 ],
 "metadata": {
  "kernelspec": {
   "display_name": "Python 3",
   "language": "python",
   "name": "python3"
  },
  "language_info": {
   "codemirror_mode": {
    "name": "ipython",
    "version": 3
   },
   "file_extension": ".py",
   "mimetype": "text/x-python",
   "name": "python",
   "nbconvert_exporter": "python",
   "pygments_lexer": "ipython3",
   "version": "3.9.12"
  }
 },
 "nbformat": 4,
 "nbformat_minor": 5
}
