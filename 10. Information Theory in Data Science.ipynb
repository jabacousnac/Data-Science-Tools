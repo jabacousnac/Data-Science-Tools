{
 "cells": [
  {
   "cell_type": "code",
   "execution_count": 77,
   "id": "73551f30",
   "metadata": {},
   "outputs": [],
   "source": [
    "import pandas as pd\n",
    "import numpy as np\n",
    "import matplotlib.pyplot as plt\n",
    "import random\n",
    "from sklearn.feature_selection import mutual_info_classif"
   ]
  },
  {
   "cell_type": "markdown",
   "id": "7f9a0b90",
   "metadata": {},
   "source": [
    "#### Did you know you can just load data from a URL?"
   ]
  },
  {
   "cell_type": "code",
   "execution_count": 93,
   "id": "836c566f",
   "metadata": {},
   "outputs": [
    {
     "name": "stdout",
     "output_type": "stream",
     "text": [
      "   PassengerId  Survived  Pclass  \\\n",
      "0            1         0       3   \n",
      "1            2         1       1   \n",
      "2            3         1       3   \n",
      "3            4         1       1   \n",
      "4            5         0       3   \n",
      "\n",
      "                                                Name     Sex   Age  SibSp  \\\n",
      "0                            Braund, Mr. Owen Harris    male  22.0      1   \n",
      "1  Cumings, Mrs. John Bradley (Florence Briggs Th...  female  38.0      1   \n",
      "2                             Heikkinen, Miss. Laina  female  26.0      0   \n",
      "3       Futrelle, Mrs. Jacques Heath (Lily May Peel)  female  35.0      1   \n",
      "4                           Allen, Mr. William Henry    male  35.0      0   \n",
      "\n",
      "   Parch            Ticket     Fare Cabin Embarked  \n",
      "0      0         A/5 21171   7.2500   NaN        S  \n",
      "1      0          PC 17599  71.2833   C85        C  \n",
      "2      0  STON/O2. 3101282   7.9250   NaN        S  \n",
      "3      0            113803  53.1000  C123        S  \n",
      "4      0            373450   8.0500   NaN        S  \n"
     ]
    }
   ],
   "source": [
    "url = \"https://raw.githubusercontent.com/datasciencedojo/datasets/master/titanic.csv\"\n",
    "df = pd.read_csv(url)\n",
    "print(df.head())"
   ]
  },
  {
   "cell_type": "markdown",
   "id": "aaf6c5fe",
   "metadata": {},
   "source": [
    "#### In this doc, I just sort of go through a few useful metrics from information theory and show how to use them as opposed to going through the theory behind them. So lots of \"information\", \"theory\" not quite so much.\n",
    "\n",
    "### 10.1 Feature selection using entropy"
   ]
  },
  {
   "cell_type": "markdown",
   "id": "3336e0cc",
   "metadata": {},
   "source": [
    "#### Often, we start off data analysis with what's known as feature selection. Feature selection can be done objectively (in a way) by using entropy measurements. If a feature (e.g. survival) has a low entropy content that means it doesn't vary all that much, and thus it might have a low entropy content. If it has a high entropy content, it may be too noisy and might just not have enough predictive power\n",
    "#### in physics entropy $S = k_B \\ln{\\Omega} = -k_B \\ln{p}$."
   ]
  },
  {
   "cell_type": "code",
   "execution_count": 81,
   "id": "2734d4d6",
   "metadata": {},
   "outputs": [],
   "source": [
    "def calculate_entropy(X):\n",
    "    '''our entropy function.'''\n",
    "    _, counts = np.unique(X, return_counts=True)\n",
    "    p = counts/sum(counts)\n",
    "    s = -np.sum(p*np.log2(p))\n",
    "    return s"
   ]
  },
  {
   "cell_type": "code",
   "execution_count": 82,
   "id": "87dc7b72",
   "metadata": {},
   "outputs": [
    {
     "data": {
      "text/plain": [
       "0.9607079018756469"
      ]
     },
     "execution_count": 82,
     "metadata": {},
     "output_type": "execute_result"
    }
   ],
   "source": [
    "calculate_entropy(df['Survived'])"
   ]
  },
  {
   "cell_type": "code",
   "execution_count": 83,
   "id": "41614eb9",
   "metadata": {},
   "outputs": [
    {
     "data": {
      "text/plain": [
       "1.1283373786812922"
      ]
     },
     "execution_count": 83,
     "metadata": {},
     "output_type": "execute_result"
    }
   ],
   "source": [
    "calculate_entropy(df['Parch'])"
   ]
  },
  {
   "cell_type": "markdown",
   "id": "8525685c",
   "metadata": {},
   "source": [
    "#### Just from this quick analysis, it looks like the survival rate has a bit more predictive power than the data on parent/children ratio"
   ]
  },
  {
   "cell_type": "markdown",
   "id": "d5de552a",
   "metadata": {},
   "source": [
    "### 10.2 Similary using mutual information score"
   ]
  },
  {
   "cell_type": "code",
   "execution_count": 104,
   "id": "687dc3cc",
   "metadata": {},
   "outputs": [
    {
     "name": "stdout",
     "output_type": "stream",
     "text": [
      "Index(['PassengerId', 'Pclass', 'Age', 'SibSp', 'Parch', 'Fare', 'Sex_female',\n",
      "       'Sex_male', 'Embarked_C', 'Embarked_Q', 'Embarked_S'],\n",
      "      dtype='object')\n"
     ]
    },
    {
     "name": "stderr",
     "output_type": "stream",
     "text": [
      "C:\\Users\\ajati\\anaconda3\\lib\\site-packages\\sklearn\\metrics\\cluster\\_supervised.py:64: UserWarning: Clustering metrics expects discrete values but received continuous values for label, and binary values for target\n",
      "  warnings.warn(msg, UserWarning)\n",
      "C:\\Users\\ajati\\anaconda3\\lib\\site-packages\\sklearn\\metrics\\cluster\\_supervised.py:64: UserWarning: Clustering metrics expects discrete values but received continuous values for label, and binary values for target\n",
      "  warnings.warn(msg, UserWarning)\n"
     ]
    },
    {
     "data": {
      "image/png": "[encoded data removed]",
      "text/plain": [
       "<Figure size 720x432 with 1 Axes>"
      ]
     },
     "metadata": {
      "needs_background": "light"
     },
     "output_type": "display_data"
    }
   ],
   "source": [
    "df = pd.read_csv(url)\n",
    "df = df.drop(['Name', 'Ticket', 'Cabin'], axis=1) #drop these columns\n",
    "df = pd.get_dummies(df, columns=['Sex', 'Embarked']) #one-hot encoding. Else, not sure how to use the data!\n",
    "\n",
    "df.dropna(inplace=True) #drop rows with missing values.\n",
    "\n",
    "X = df.drop('Survived', axis=1) #remove target from features, X\n",
    "Y = df['Survived'] #this is our target. \n",
    "\n",
    "print(X.columns)\n",
    "mi_scores = mutual_info_classif(X, Y, discrete_features=[1, 2, 3, 4, 5, 6])\n",
    "mi_df = pd.DataFrame({'Feature': X.columns, 'MI_Score': mi_scores})\n",
    "mi_df = mi_df.sort_values(by='MI_Score', ascending=False)\n",
    "\n",
    "plt.figure(figsize=(10, 6))\n",
    "plt.barh(mi_df['Feature'], mi_df['MI_Score'], color='orange', alpha = .5)\n",
    "plt.xlabel('Mutual Information Score')\n",
    "plt.ylabel('Feature')\n",
    "plt.title('Mutual Information Scores for Titanic Features')\n",
    "plt.show()"
   ]
  },
  {
   "cell_type": "markdown",
   "id": "13cb6067",
   "metadata": {},
   "source": [
    "#### This analysis shows that \"fare\", for instance, is a prediction \"survival\" predictor than \"Parch\" is, for instance"
   ]
  },
  {
   "cell_type": "markdown",
   "id": "5eca414e",
   "metadata": {},
   "source": [
    "### 10.3 KL Divergence and Cross Entropy"
   ]
  },
  {
   "cell_type": "markdown",
   "id": "0c2abe73",
   "metadata": {},
   "source": [
    "#### You can argue that this discussion would be incomplete without KL (Kullback-Leibler divergence). KL divergence (often referred to as relative entropy) measures the distance between probability distributions. \n",
    "\n",
    "#### Cross Entropy is similar in some regards. Often, Cross Entropy is also used to compare model $Q(x)$ (theory) to data (observations) $P(x)$, and is used as a loss function meant to be minimized for best model parameters."
   ]
  },
  {
   "cell_type": "markdown",
   "id": "c37b90f6",
   "metadata": {},
   "source": [
    "#### From wikipedia, ${\\displaystyle D_{\\text{KL}}(P\\parallel Q)=\\sum _{x\\in {\\mathcal {X}}}P(x)\\log \\left({\\frac {P(x)}{Q(x)}}\\right)}$\n",
    "#### Also wikipedia, ${\\displaystyle CE(P,Q)=-\\sum _{x\\in {\\mathcal {X}}}P(x)\\,\\log Q(x)}$"
   ]
  },
  {
   "cell_type": "code",
   "execution_count": 121,
   "id": "4726f4e6",
   "metadata": {},
   "outputs": [
    {
     "name": "stdout",
     "output_type": "stream",
     "text": [
      "     PassengerId  Survived  Pclass  \\\n",
      "0              1         0       3   \n",
      "1              2         1       1   \n",
      "2              3         1       3   \n",
      "3              4         1       1   \n",
      "4              5         0       3   \n",
      "..           ...       ...     ...   \n",
      "886          887         0       2   \n",
      "887          888         1       1   \n",
      "888          889         0       3   \n",
      "889          890         1       1   \n",
      "890          891         0       3   \n",
      "\n",
      "                                                  Name     Sex   Age  SibSp  \\\n",
      "0                              Braund, Mr. Owen Harris    male  22.0      1   \n",
      "1    Cumings, Mrs. John Bradley (Florence Briggs Th...  female  38.0      1   \n",
      "2                               Heikkinen, Miss. Laina  female  26.0      0   \n",
      "3         Futrelle, Mrs. Jacques Heath (Lily May Peel)  female  35.0      1   \n",
      "4                             Allen, Mr. William Henry    male  35.0      0   \n",
      "..                                                 ...     ...   ...    ...   \n",
      "886                              Montvila, Rev. Juozas    male  27.0      0   \n",
      "887                       Graham, Miss. Margaret Edith  female  19.0      0   \n",
      "888           Johnston, Miss. Catherine Helen \"Carrie\"  female   NaN      1   \n",
      "889                              Behr, Mr. Karl Howell    male  26.0      0   \n",
      "890                                Dooley, Mr. Patrick    male  32.0      0   \n",
      "\n",
      "     Parch            Ticket     Fare Cabin Embarked  \n",
      "0        0         A/5 21171   7.2500   NaN        S  \n",
      "1        0          PC 17599  71.2833   C85        C  \n",
      "2        0  STON/O2. 3101282   7.9250   NaN        S  \n",
      "3        0            113803  53.1000  C123        S  \n",
      "4        0            373450   8.0500   NaN        S  \n",
      "..     ...               ...      ...   ...      ...  \n",
      "886      0            211536  13.0000   NaN        S  \n",
      "887      0            112053  30.0000   B42        S  \n",
      "888      2        W./C. 6607  23.4500   NaN        S  \n",
      "889      0            111369  30.0000  C148        C  \n",
      "890      0            370376   7.7500   NaN        Q  \n",
      "\n",
      "[891 rows x 12 columns]\n",
      "KL divergence: 0.6707096203136247\n",
      "Cross Entropy: 1.1553455061415936\n"
     ]
    }
   ],
   "source": [
    "def measure_KL(p, q):\n",
    "    p, q = np.array(p), np.array(q)\n",
    "    return np.sum(p*np.log(p/q))\n",
    "\n",
    "def measure_CE(p, q):\n",
    "    p, q = np.array(p), np.array(q)\n",
    "    return -np.sum(p*(np.log(q)))\n",
    "\n",
    "print(df)\n",
    "\n",
    "ms = df[df['Sex']=='male']['Survived']\n",
    "fs = df[df['Sex']=='female']['Survived']\n",
    "\n",
    "ms_prob = np.bincount(male_survived)/len(male_survived) #survival probability\n",
    "fs_prob = np.bincount(female_survived)/len(female_survived)\n",
    "\n",
    "kl_divergence = entropy(male_survival_distribution, female_survival_distribution)\n",
    "\n",
    "print('KL divergence: {}'.format(measure_KL(ms_prob, fs_prob)))\n",
    "print('Cross Entropy: {}'.format(measure_CE(ms_prob, fs_prob)))"
   ]
  },
  {
   "cell_type": "markdown",
   "id": "937bb9fd",
   "metadata": {},
   "source": [
    "### 10.4 Anomaly detection through Entropy "
   ]
  },
  {
   "cell_type": "markdown",
   "id": "dd0d4c93",
   "metadata": {},
   "source": [
    "#### High entropy is manifested by high variability, which can often be caused by outliers/anomalies. So let's use entropy to our advantage, i.e. to detect anomalous values."
   ]
  },
  {
   "cell_type": "code",
   "execution_count": 137,
   "id": "1fb127b5",
   "metadata": {},
   "outputs": [
    {
     "name": "stdout",
     "output_type": "stream",
     "text": [
      "Age entropy: 5.836583634094744\n",
      "Anomaly Detection Threshold: 4.669266907275795\n"
     ]
    },
    {
     "data": {
      "image/png": "[encoded data removed]",
      "text/plain": [
       "<Figure size 360x216 with 1 Axes>"
      ]
     },
     "metadata": {
      "needs_background": "light"
     },
     "output_type": "display_data"
    }
   ],
   "source": [
    "df = pd.read_csv(url)\n",
    "df.dropna(subset=['Age'], inplace=True)\n",
    "s_age = calculate_entropy(df['Age'])\n",
    "print(\"Age entropy:\", s_age)\n",
    "\n",
    "anomaly_threshold = .8*s_age\n",
    "\n",
    "print(\"Anomaly Detection Threshold:\", anomaly_threshold)\n",
    "anomalies = df[df['Age'].apply(lambda age: calculate_entropy(np.array([age, 100-age]))) > anomaly_threshold] #not a very\n",
    "    #good way of doing it. 100-age is the complement, here\n",
    "\n",
    "plt.figure(figsize=(5, 3))\n",
    "plt.hist(df['Age'], bins=50, alpha=0.5, color = 'goldenrod', label='Age Distribution')\n",
    "plt.axvline(x=anomaly_threshold, color='r', linestyle='--', label='Anomaly Threshold')\n",
    "plt.legend()\n",
    "plt.xlabel('Age')\n",
    "plt.ylabel('Counts');"
   ]
  },
  {
   "cell_type": "markdown",
   "id": "2a8aa9bb",
   "metadata": {},
   "source": [
    "#### It is a bit of a primitive method, but it can get the job done, fast."
   ]
  }
 ],
 "metadata": {
  "kernelspec": {
   "display_name": "Python 3",
   "language": "python",
   "name": "python3"
  },
  "language_info": {
   "codemirror_mode": {
    "name": "ipython",
    "version": 3
   },
   "file_extension": ".py",
   "mimetype": "text/x-python",
   "name": "python",
   "nbconvert_exporter": "python",
   "pygments_lexer": "ipython3",
   "version": "3.9.12"
  }
 },
 "nbformat": 4,
 "nbformat_minor": 5
}
