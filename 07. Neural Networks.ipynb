{
 "cells": [
  {
   "cell_type": "code",
   "execution_count": 5,
   "id": "f9545707",
   "metadata": {},
   "outputs": [],
   "source": [
    "import numpy as np\n",
    "import matplotlib.pyplot as plt"
   ]
  },
  {
   "cell_type": "markdown",
   "id": "f3006817",
   "metadata": {},
   "source": [
    "## 7.1 Convolutional Neural Network in Keras\n",
    "### NNs have an input layer, an output layer and hidden layers in between. \n",
    "### CNNs are often used in image analysis, where the Convolution part comes from a fourier multiplication between pixels and a kernel.\n",
    "#### All of this is done in https://towardsdatascience.com/building-a-convolutional-neural-network-cnn-in-keras-329fbbadc5f5"
   ]
  },
  {
   "cell_type": "code",
   "execution_count": 2,
   "id": "3bfa770d",
   "metadata": {},
   "outputs": [
    {
     "name": "stdout",
     "output_type": "stream",
     "text": [
      "Downloading data from https://storage.googleapis.com/tensorflow/tf-keras-datasets/mnist.npz\n",
      "11490434/11490434 [==============================] - 7s 1us/step\n"
     ]
    }
   ],
   "source": [
    "from keras.datasets import mnist #download mnist data and split into train and test sets\n",
    "(X_train, y_train), (X_test, y_test) = mnist.load_data()"
   ]
  },
  {
   "cell_type": "markdown",
   "id": "a6169536",
   "metadata": {},
   "source": [
    "### mnist is a popular dataset of handwritten digits 0-9. We have 60000 images that we will use to train. And then, with our fits, we will predict the digit written in the 10000 test images. Each image is 28x28\n",
    "### This is going to be an example of supervised learning, because we have trained data with known answers. "
   ]
  },
  {
   "cell_type": "code",
   "execution_count": 3,
   "id": "d1a0358a",
   "metadata": {},
   "outputs": [
    {
     "name": "stdout",
     "output_type": "stream",
     "text": [
      "(60000, 28, 28) (60000,) (10000, 28, 28) (10000,)\n"
     ]
    }
   ],
   "source": [
    "print(X_train.shape, y_train.shape, X_test.shape, y_test.shape)"
   ]
  },
  {
   "cell_type": "code",
   "execution_count": 11,
   "id": "6c602948",
   "metadata": {},
   "outputs": [
    {
     "data": {
      "image/png": "[encoded data removed]",
      "text/plain": [
       "<Figure size 432x288 with 1 Axes>"
      ]
     },
     "metadata": {
      "needs_background": "light"
     },
     "output_type": "display_data"
    }
   ],
   "source": [
    "plt.figure()\n",
    "plt.imshow(X_train[800], cmap = 'gray');"
   ]
  },
  {
   "cell_type": "code",
   "execution_count": 12,
   "id": "7a04a8e0",
   "metadata": {},
   "outputs": [
    {
     "name": "stdout",
     "output_type": "stream",
     "text": [
      "5\n"
     ]
    }
   ],
   "source": [
    "print(y_train[0])"
   ]
  },
  {
   "cell_type": "markdown",
   "id": "3a6d8395",
   "metadata": {},
   "source": [
    "### As a pre-processing step, it is useful to use binary. And so, instead of having \"5\" as the answer of the 1st training image, for e.g. We will have a bunch of 0s and only at the 5th index will we have a 1 to denote that's the label. "
   ]
  },
  {
   "cell_type": "code",
   "execution_count": 14,
   "id": "6b3367bc",
   "metadata": {},
   "outputs": [
    {
     "name": "stdout",
     "output_type": "stream",
     "text": [
      "[0. 0. 0. 0. 0. 1. 0. 0. 0. 0.]\n"
     ]
    }
   ],
   "source": [
    "from keras.utils import to_categorical\n",
    "\n",
    "#reshape\n",
    "X_train = X_train.reshape(60000,28,28,1)\n",
    "X_test = X_test.reshape(10000,28,28,1)\n",
    "\n",
    "#\"one-hot\" encoding of target column\n",
    "y_train = to_categorical(y_train)\n",
    "y_test = to_categorical(y_test)\n",
    "print(y_train[0])"
   ]
  },
  {
   "cell_type": "markdown",
   "id": "1aafa04e",
   "metadata": {},
   "source": [
    "### Now we build the model. The activation function used is \"relu\" which is $f(x) = max(x, 0)$"
   ]
  },
  {
   "cell_type": "code",
   "execution_count": 16,
   "id": "991509d3",
   "metadata": {},
   "outputs": [],
   "source": [
    "from keras.models import Sequential\n",
    "from keras.layers import Dense, Conv2D, Flatten#create model\n",
    "\n",
    "model = Sequential() #add model layers (2 layers):\n",
    "model.add(Conv2D(64, kernel_size=3, activation='relu', input_shape=(28,28,1))) #input is 28x28x1 (1 because grayscale channel)\n",
    "model.add(Conv2D(32, kernel_size=3, activation='relu'))\n",
    "\n",
    "model.add(Flatten())\n",
    "model.add(Dense(10, activation='softmax')) #we have 10 nodes for 10 outputs\n",
    "    #softmax so the output can be interpreted as probabilities"
   ]
  },
  {
   "cell_type": "markdown",
   "id": "e64c0e28",
   "metadata": {},
   "source": [
    "### Now, compile"
   ]
  },
  {
   "cell_type": "code",
   "execution_count": 18,
   "id": "3f8b3c4a",
   "metadata": {},
   "outputs": [],
   "source": [
    "#adam is an example of a Stochastic Gradient Descent Optimizer\n",
    "model.compile(optimizer='adam', loss='categorical_crossentropy', metrics=['accuracy'])\n",
    "#smaller learning rate will make it slower but more accurate\n",
    "#the smaller the loss, the more accurate."
   ]
  },
  {
   "cell_type": "markdown",
   "id": "5a18de3d",
   "metadata": {},
   "source": [
    "### Train"
   ]
  },
  {
   "cell_type": "code",
   "execution_count": 19,
   "id": "415fad57",
   "metadata": {},
   "outputs": [
    {
     "name": "stdout",
     "output_type": "stream",
     "text": [
      "Epoch 1/3\n",
      "1875/1875 [==============================] - 82s 43ms/step - loss: 0.2169 - accuracy: 0.9524 - val_loss: 0.0966 - val_accuracy: 0.9698\n",
      "Epoch 2/3\n",
      "1875/1875 [==============================] - 80s 42ms/step - loss: 0.0688 - accuracy: 0.9790 - val_loss: 0.0752 - val_accuracy: 0.9761\n",
      "Epoch 3/3\n",
      "1875/1875 [==============================] - 81s 43ms/step - loss: 0.0481 - accuracy: 0.9840 - val_loss: 0.0875 - val_accuracy: 0.9748\n"
     ]
    },
    {
     "data": {
      "text/plain": [
       "<keras.callbacks.History at 0x1edda3422b0>"
      ]
     },
     "execution_count": 19,
     "metadata": {},
     "output_type": "execute_result"
    }
   ],
   "source": [
    "model.fit(X_train, y_train, validation_data=(X_test, y_test), epochs=3)"
   ]
  },
  {
   "cell_type": "markdown",
   "id": "57b6bbe4",
   "metadata": {},
   "source": [
    "### Done! Now let's predict"
   ]
  },
  {
   "cell_type": "code",
   "execution_count": 25,
   "id": "42a5968d",
   "metadata": {},
   "outputs": [
    {
     "name": "stdout",
     "output_type": "stream",
     "text": [
      "1/1 [==============================] - 0s 34ms/step\n",
      "[[2.5016367e-10 1.7119987e-17 2.4840585e-10 4.1237112e-08 5.0868696e-16\n",
      "  2.6749590e-12 1.4005578e-18 1.0000000e+00 5.8750858e-09 8.4645740e-10]\n",
      " [9.3641664e-11 5.3744822e-07 9.9999940e-01 4.1546874e-12 6.6731606e-15\n",
      "  2.8322483e-14 3.4235079e-09 5.7296252e-16 5.0500361e-08 3.5722347e-14]\n",
      " [1.3637735e-06 9.9988139e-01 1.6145647e-06 2.8155444e-08 1.0388646e-04\n",
      "  1.3461174e-06 1.1769689e-06 4.8411960e-07 8.7926346e-06 2.1077762e-08]\n",
      " [9.9999952e-01 2.2332880e-13 1.1350831e-09 2.9767022e-11 2.1316779e-12\n",
      "  1.5837194e-10 3.8822523e-07 1.7208802e-09 2.9813991e-09 1.2696590e-07]\n",
      " [4.4654778e-09 1.5437983e-10 1.0725756e-09 1.0166166e-12 9.9993420e-01\n",
      "  4.2438057e-11 1.7968538e-12 2.6267069e-09 1.1138517e-10 6.5764536e-05]]\n",
      "[[0. 0. 0. 0. 0. 0. 0. 1. 0. 0.]\n",
      " [0. 0. 1. 0. 0. 0. 0. 0. 0. 0.]\n",
      " [0. 1. 0. 0. 0. 0. 0. 0. 0. 0.]\n",
      " [1. 0. 0. 0. 0. 0. 0. 0. 0. 0.]\n",
      " [0. 0. 0. 0. 1. 0. 0. 0. 0. 0.]]\n"
     ]
    }
   ],
   "source": [
    "print(model.predict(X_test[:5]))\n",
    "print(y_test[:5])"
   ]
  },
  {
   "cell_type": "markdown",
   "id": "f91ae905",
   "metadata": {},
   "source": [
    "### Predictions for first 5: 8, 3, 2, 1, 5. Actual results: 8, 3, 2, 1, 5"
   ]
  }
 ],
 "metadata": {
  "kernelspec": {
   "display_name": "Python 3",
   "language": "python",
   "name": "python3"
  },
  "language_info": {
   "codemirror_mode": {
    "name": "ipython",
    "version": 3
   },
   "file_extension": ".py",
   "mimetype": "text/x-python",
   "name": "python",
   "nbconvert_exporter": "python",
   "pygments_lexer": "ipython3",
   "version": "3.9.12"
  }
 },
 "nbformat": 4,
 "nbformat_minor": 5
}
