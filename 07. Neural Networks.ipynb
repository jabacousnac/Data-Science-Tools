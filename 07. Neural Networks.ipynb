{
 "cells": [
  {
   "cell_type": "code",
   "execution_count": 19,
   "id": "d6380598",
   "metadata": {},
   "outputs": [],
   "source": [
    "import numpy as np\n",
    "import matplotlib.pyplot as plt"
   ]
  },
  {
   "cell_type": "markdown",
   "id": "360564f1",
   "metadata": {},
   "source": [
    "## 7.1 Convolutional Neural Network in Keras\n",
    "### NNs have an input layer, an output layer and hidden layers in between. Each hidden layer has a weight associated with it, and the whole point is to learn those weights and to move from layer to layer to arrive at the output. Remember how the weights were learned in Linear Regression. It's the same idea here but we have a series of weighted sum instead of just one. And there's an extra trick (where the non-linearity arises): a non-linear function -- typically $arctanh$ or $relu$ is made to act on the result.\n",
    "### CNNs are often used in image analysis, where the Convolution part comes from a fourier multiplication between pixels and a kernel.\n",
    "#### All of this is done in https://towardsdatascience.com/building-a-convolutional-neural-network-cnn-in-keras-329fbbadc5f5"
   ]
  },
  {
   "cell_type": "code",
   "execution_count": 30,
   "id": "2bebbb6e",
   "metadata": {},
   "outputs": [],
   "source": [
    "from keras.datasets import mnist #download mnist data and split into train and test sets\n",
    "(X_train, y_train), (X_test, y_test) = mnist.load_data()"
   ]
  },
  {
   "cell_type": "markdown",
   "id": "2b5d0650",
   "metadata": {},
   "source": [
    "### mnist is a popular dataset of handwritten digits 0-9. We have 60000 images that we will use to train. And then, with our fits, we will predict the digit written in the 10000 test images. Each image is 28x28\n",
    "### This is going to be an example of supervised learning, because we have trained data with known answers. "
   ]
  },
  {
   "cell_type": "code",
   "execution_count": 31,
   "id": "46a253f9",
   "metadata": {},
   "outputs": [
    {
     "name": "stdout",
     "output_type": "stream",
     "text": [
      "(60000, 28, 28) (60000,) (10000, 28, 28) (10000,)\n"
     ]
    }
   ],
   "source": [
    "print(X_train.shape, y_train.shape, X_test.shape, y_test.shape)"
   ]
  },
  {
   "cell_type": "code",
   "execution_count": 32,
   "id": "fa7f24e1",
   "metadata": {},
   "outputs": [
    {
     "data": {
      "image/png": "[encoded data removed]",
      "text/plain": [
       "<Figure size 432x288 with 1 Axes>"
      ]
     },
     "metadata": {
      "needs_background": "light"
     },
     "output_type": "display_data"
    }
   ],
   "source": [
    "plt.figure()\n",
    "plt.imshow(X_train[800], cmap = 'gray');"
   ]
  },
  {
   "cell_type": "code",
   "execution_count": 33,
   "id": "125c30f8",
   "metadata": {},
   "outputs": [
    {
     "name": "stdout",
     "output_type": "stream",
     "text": [
      "9\n"
     ]
    }
   ],
   "source": [
    "print(y_train[800])"
   ]
  },
  {
   "cell_type": "markdown",
   "id": "9e784a2d",
   "metadata": {},
   "source": [
    "### As a pre-processing step, it is useful to use binary. And so, instead of having \"5\" as the answer of the 1st training image, for e.g. We will have a bunch of 0s and only at the 5th index will we have a 1 to denote that's the label. "
   ]
  },
  {
   "cell_type": "code",
   "execution_count": 14,
   "id": "079323ab",
   "metadata": {},
   "outputs": [
    {
     "name": "stdout",
     "output_type": "stream",
     "text": [
      "[0. 0. 0. 0. 0. 1. 0. 0. 0. 0.]\n"
     ]
    }
   ],
   "source": [
    "from keras.utils import to_categorical\n",
    "\n",
    "#reshape\n",
    "X_train = X_train.reshape(60000,28,28,1)\n",
    "X_test = X_test.reshape(10000,28,28,1)\n",
    "\n",
    "#\"one-hot\" encoding of target column\n",
    "y_train = to_categorical(y_train)\n",
    "y_test = to_categorical(y_test)\n",
    "print(y_train[0])"
   ]
  },
  {
   "cell_type": "markdown",
   "id": "672d041d",
   "metadata": {},
   "source": [
    "### Now we build the model. The activation function used is \"relu\" which is $f(x) = max(x, 0)$"
   ]
  },
  {
   "cell_type": "code",
   "execution_count": 16,
   "id": "b31dc7a2",
   "metadata": {},
   "outputs": [],
   "source": [
    "from keras.models import Sequential\n",
    "from keras.layers import Dense, Conv2D, Flatten#create model\n",
    "\n",
    "model = Sequential() #add model layers (2 layers):\n",
    "model.add(Conv2D(64, kernel_size=3, activation='relu', input_shape=(28,28,1))) #input is 28x28x1 (1 because grayscale channel)\n",
    "model.add(Conv2D(32, kernel_size=3, activation='relu'))\n",
    "\n",
    "model.add(Flatten())model = Sequential() #add model layers (2 layers):\n",
    "model.add(Conv2D(64, kernel_size=3, activation='relu', input_shape=(28,28,1))) #input is 28x28x1 (1 because grayscale channel)\n",
    "model.add(Conv2D(32, kernel_size=3, activation='relu'))\n",
    "model.add(Dense(10, activation='softmax')) #we have 10 nodes for 10 outputs\n",
    "    #softmax so the output can be interpreted as probabilities"
   ]
  },
  {
   "cell_type": "markdown",
   "id": "363a8267",
   "metadata": {},
   "source": [
    "### Now, compile"
   ]
  },
  {
   "cell_type": "code",
   "execution_count": 18,
   "id": "03741958",
   "metadata": {},
   "outputs": [],
   "source": [
    "#adam is an example of a Stochastic Gradient Descent Optimizer\n",
    "model.compile(optimizer='adam', loss='categorical_crossentropy', metrics=['accuracy'])\n",
    "#smaller learning rate will make it slower but more accurate\n",
    "#the smaller the loss, the more accurate."
   ]
  },
  {
   "cell_type": "markdown",
   "id": "dfb9fbc5",
   "metadata": {},
   "source": [
    "### Train"
   ]
  },
  {
   "cell_type": "code",
   "execution_count": 19,
   "id": "2c92b89e",
   "metadata": {},
   "outputs": [
    {
     "name": "stdout",
     "output_type": "stream",
     "text": [
      "Epoch 1/3\n",
      "1875/1875 [==============================] - 82s 43ms/step - loss: 0.2169 - accuracy: 0.9524 - val_loss: 0.0966 - val_accuracy: 0.9698\n",
      "Epoch 2/3\n",
      "1875/1875 [==============================] - 80s 42ms/step - loss: 0.0688 - accuracy: 0.9790 - val_loss: 0.0752 - val_accuracy: 0.9761\n",
      "Epoch 3/3\n",
      "1875/1875 [==============================] - 81s 43ms/step - loss: 0.0481 - accuracy: 0.9840 - val_loss: 0.0875 - val_accuracy: 0.9748\n"
     ]
    },
    {
     "data": {
      "text/plain": [
       "<keras.callbacks.History at 0x1edda3422b0>"
      ]
     },
     "execution_count": 19,
     "metadata": {},
     "output_type": "execute_result"
    }
   ],
   "source": [
    "model.fit(X_train, y_train, validation_data=(X_test, y_test), epochs=3)"
   ]
  },
  {
   "cell_type": "markdown",
   "id": "09327a7b",
   "metadata": {},
   "source": [
    "### Done! Now let's predict"
   ]
  },
  {
   "cell_type": "code",
   "execution_count": 25,
   "id": "1508c16b",
   "metadata": {},
   "outputs": [
    {
     "name": "stdout",
     "output_type": "stream",
     "text": [
      "1/1 [==============================] - 0s 34ms/step\n",
      "[[2.5016367e-10 1.7119987e-17 2.4840585e-10 4.1237112e-08 5.0868696e-16\n",
      "  2.6749590e-12 1.4005578e-18 1.0000000e+00 5.8750858e-09 8.4645740e-10]\n",
      " [9.3641664e-11 5.3744822e-07 9.9999940e-01 4.1546874e-12 6.6731606e-15\n",
      "  2.8322483e-14 3.4235079e-09 5.7296252e-16 5.0500361e-08 3.5722347e-14]\n",
      " [1.3637735e-06 9.9988139e-01 1.6145647e-06 2.8155444e-08 1.0388646e-04\n",
      "  1.3461174e-06 1.1769689e-06 4.8411960e-07 8.7926346e-06 2.1077762e-08]\n",
      " [9.9999952e-01 2.2332880e-13 1.1350831e-09 2.9767022e-11 2.1316779e-12\n",
      "  1.5837194e-10 3.8822523e-07 1.7208802e-09 2.9813991e-09 1.2696590e-07]\n",
      " [4.4654778e-09 1.5437983e-10 1.0725756e-09 1.0166166e-12 9.9993420e-01\n",
      "  4.2438057e-11 1.7968538e-12 2.6267069e-09 1.1138517e-10 6.5764536e-05]]\n",
      "[[0. 0. 0. 0. 0. 0. 0. 1. 0. 0.]\n",
      " [0. 0. 1. 0. 0. 0. 0. 0. 0. 0.]\n",
      " [0. 1. 0. 0. 0. 0. 0. 0. 0. 0.]\n",
      " [1. 0. 0. 0. 0. 0. 0. 0. 0. 0.]\n",
      " [0. 0. 0. 0. 1. 0. 0. 0. 0. 0.]]\n"
     ]
    }
   ],
   "source": [
    "print(model.predict(X_test[:5]))\n",
    "print(y_test[:5])"
   ]
  },
  {
   "cell_type": "markdown",
   "id": "b0bfe42e",
   "metadata": {},
   "source": [
    "### Predictions for first 5: 8, 3, 2, 1, 5. Actual results: 8, 3, 2, 1, 5"
   ]
  },
  {
   "cell_type": "markdown",
   "id": "7750d76c",
   "metadata": {},
   "source": [
    "## 7.2. Classifier using Keras"
   ]
  },
  {
   "cell_type": "markdown",
   "id": "e997fa82",
   "metadata": {},
   "source": [
    "#### Can be followed here: https://machinelearningmastery.com/tutorial-first-neural-network-python-keras/\n",
    "### where we predict if a patient has diabetes or not based on: \n",
    "    Number of times pregnant\n",
    "    Plasma glucose concentration at 2 hours in an oral glucose tolerance test\n",
    "    Diastolic blood pressure (mm Hg)\n",
    "    Triceps skin fold thickness (mm)\n",
    "    2-hour serum insulin (mu U/ml)\n",
    "    Body mass index (weight in kg/(height in m)^2)\n",
    "    Diabetes pedigree function\n",
    "    Age (years)"
   ]
  },
  {
   "cell_type": "code",
   "execution_count": 1,
   "id": "2662018d",
   "metadata": {},
   "outputs": [],
   "source": [
    "from numpy import loadtxt\n",
    "from tensorflow.keras.models import Sequential\n",
    "from tensorflow.keras.layers import Dense"
   ]
  },
  {
   "cell_type": "code",
   "execution_count": 35,
   "id": "b26c2bed",
   "metadata": {},
   "outputs": [
    {
     "name": "stdout",
     "output_type": "stream",
     "text": [
      "X (risk factors) [  6.    148.     72.     35.      0.     33.6     0.627  50.   ]\n",
      "Y (result) 1.0\n",
      "(768, 8) (768,)\n"
     ]
    }
   ],
   "source": [
    "dataset = loadtxt('pima-indians-diabetes.csv', delimiter=',')\n",
    "\n",
    "X = dataset[:,0:8]\n",
    "Y = dataset[:,8]\n",
    "print('X (risk factors)', X[0,:])\n",
    "print('Y (result)', Y[0])\n",
    "print(X.shape, Y.shape)"
   ]
  },
  {
   "cell_type": "markdown",
   "id": "cc651a4d",
   "metadata": {},
   "source": [
    "### So we have 8 risk factors (X) and the diagnosis (Y) which is a 1 or a 0. There are 768 patients"
   ]
  },
  {
   "cell_type": "code",
   "execution_count": 13,
   "id": "df18765f",
   "metadata": {},
   "outputs": [],
   "source": [
    "model = Sequential()\n",
    "model.add(Dense(12, input_shape=(8,), activation='relu')) #8 because of the input\n",
    "#dense layer (fully connected)\n",
    "model.add(Dense(8, activation='relu'))\n",
    "model.add(Dense(1, activation='sigmoid')) #sigmoid so the answer lies between 1 and 0"
   ]
  },
  {
   "cell_type": "markdown",
   "id": "6637f139",
   "metadata": {},
   "source": [
    "### Compile"
   ]
  },
  {
   "cell_type": "code",
   "execution_count": 15,
   "id": "40978647",
   "metadata": {},
   "outputs": [],
   "source": [
    "#compile the keras model\n",
    "model.compile(loss='binary_crossentropy', optimizer='adam', metrics=['accuracy'])"
   ]
  },
  {
   "cell_type": "markdown",
   "id": "959d54ad",
   "metadata": {},
   "source": [
    "### Fit"
   ]
  },
  {
   "cell_type": "code",
   "execution_count": 16,
   "id": "d595a16c",
   "metadata": {},
   "outputs": [
    {
     "name": "stdout",
     "output_type": "stream",
     "text": [
      "Epoch 1/150\n",
      "77/77 [==============================] - 3s 5ms/step - loss: 17.8709 - accuracy: 0.6068\n",
      "Epoch 2/150\n",
      "77/77 [==============================] - 0s 4ms/step - loss: 5.8590 - accuracy: 0.6289\n",
      "Epoch 3/150\n",
      "77/77 [==============================] - 0s 3ms/step - loss: 0.9293 - accuracy: 0.6172\n",
      "Epoch 4/150\n",
      "77/77 [==============================] - 0s 3ms/step - loss: 0.7971 - accuracy: 0.6198\n",
      "Epoch 5/150\n",
      "77/77 [==============================] - 0s 4ms/step - loss: 0.7485 - accuracy: 0.6042\n",
      "Epoch 6/150\n",
      "77/77 [==============================] - 0s 5ms/step - loss: 0.7128 - accuracy: 0.6341\n",
      "Epoch 7/150\n",
      "77/77 [==============================] - 0s 2ms/step - loss: 0.6999 - accuracy: 0.6315\n",
      "Epoch 8/150\n",
      "77/77 [==============================] - 0s 2ms/step - loss: 0.6810 - accuracy: 0.6641\n",
      "Epoch 9/150\n",
      "77/77 [==============================] - 0s 2ms/step - loss: 0.6714 - accuracy: 0.6615\n",
      "Epoch 10/150\n",
      "77/77 [==============================] - 0s 2ms/step - loss: 0.6454 - accuracy: 0.6654\n",
      "Epoch 11/150\n",
      "77/77 [==============================] - 0s 2ms/step - loss: 0.6490 - accuracy: 0.6562\n",
      "Epoch 12/150\n",
      "77/77 [==============================] - 0s 3ms/step - loss: 0.6494 - accuracy: 0.6602\n",
      "Epoch 13/150\n",
      "77/77 [==============================] - 0s 4ms/step - loss: 0.6428 - accuracy: 0.6849\n",
      "Epoch 14/150\n",
      "77/77 [==============================] - 0s 2ms/step - loss: 0.6288 - accuracy: 0.6602\n",
      "Epoch 15/150\n",
      "77/77 [==============================] - 0s 2ms/step - loss: 0.6372 - accuracy: 0.6784\n",
      "Epoch 16/150\n",
      "77/77 [==============================] - 0s 2ms/step - loss: 0.6348 - accuracy: 0.6732\n",
      "Epoch 17/150\n",
      "77/77 [==============================] - 0s 2ms/step - loss: 0.6151 - accuracy: 0.6927\n",
      "Epoch 18/150\n",
      "77/77 [==============================] - 0s 2ms/step - loss: 0.6013 - accuracy: 0.6901\n",
      "Epoch 19/150\n",
      "77/77 [==============================] - 0s 2ms/step - loss: 0.6010 - accuracy: 0.6771\n",
      "Epoch 20/150\n",
      "77/77 [==============================] - 0s 2ms/step - loss: 0.5898 - accuracy: 0.7005\n",
      "Epoch 21/150\n",
      "77/77 [==============================] - 0s 2ms/step - loss: 0.5844 - accuracy: 0.6979\n",
      "Epoch 22/150\n",
      "77/77 [==============================] - 0s 3ms/step - loss: 0.6162 - accuracy: 0.6523\n",
      "Epoch 23/150\n",
      "77/77 [==============================] - 0s 5ms/step - loss: 0.5963 - accuracy: 0.6979\n",
      "Epoch 24/150\n",
      "77/77 [==============================] - 0s 3ms/step - loss: 0.5940 - accuracy: 0.6797\n",
      "Epoch 25/150\n",
      "77/77 [==============================] - 0s 2ms/step - loss: 0.5912 - accuracy: 0.6745\n",
      "Epoch 26/150\n",
      "77/77 [==============================] - 0s 2ms/step - loss: 0.5770 - accuracy: 0.6979\n",
      "Epoch 27/150\n",
      "77/77 [==============================] - 0s 2ms/step - loss: 0.5736 - accuracy: 0.6940\n",
      "Epoch 28/150\n",
      "77/77 [==============================] - 0s 2ms/step - loss: 0.6080 - accuracy: 0.6693\n",
      "Epoch 29/150\n",
      "77/77 [==============================] - 0s 2ms/step - loss: 0.5688 - accuracy: 0.7135\n",
      "Epoch 30/150\n",
      "77/77 [==============================] - 0s 2ms/step - loss: 0.5832 - accuracy: 0.6992\n",
      "Epoch 31/150\n",
      "77/77 [==============================] - 0s 2ms/step - loss: 0.5787 - accuracy: 0.7031\n",
      "Epoch 32/150\n",
      "77/77 [==============================] - 0s 2ms/step - loss: 0.5661 - accuracy: 0.6979\n",
      "Epoch 33/150\n",
      "77/77 [==============================] - 0s 2ms/step - loss: 0.5777 - accuracy: 0.6836\n",
      "Epoch 34/150\n",
      "77/77 [==============================] - 0s 2ms/step - loss: 0.5793 - accuracy: 0.7161\n",
      "Epoch 35/150\n",
      "77/77 [==============================] - 0s 4ms/step - loss: 0.6044 - accuracy: 0.7018\n",
      "Epoch 36/150\n",
      "77/77 [==============================] - 0s 4ms/step - loss: 0.5614 - accuracy: 0.7057\n",
      "Epoch 37/150\n",
      "77/77 [==============================] - 0s 4ms/step - loss: 0.5682 - accuracy: 0.7174\n",
      "Epoch 38/150\n",
      "77/77 [==============================] - 0s 2ms/step - loss: 0.5638 - accuracy: 0.7148\n",
      "Epoch 39/150\n",
      "77/77 [==============================] - 0s 3ms/step - loss: 0.5507 - accuracy: 0.7135\n",
      "Epoch 40/150\n",
      "77/77 [==============================] - 0s 5ms/step - loss: 0.5693 - accuracy: 0.6992\n",
      "Epoch 41/150\n",
      "77/77 [==============================] - 0s 5ms/step - loss: 0.5473 - accuracy: 0.7318\n",
      "Epoch 42/150\n",
      "77/77 [==============================] - 0s 5ms/step - loss: 0.5508 - accuracy: 0.7122\n",
      "Epoch 43/150\n",
      "77/77 [==============================] - 0s 5ms/step - loss: 0.5594 - accuracy: 0.7214\n",
      "Epoch 44/150\n",
      "77/77 [==============================] - 0s 4ms/step - loss: 0.5468 - accuracy: 0.7057\n",
      "Epoch 45/150\n",
      "77/77 [==============================] - 0s 5ms/step - loss: 0.5461 - accuracy: 0.7214\n",
      "Epoch 46/150\n",
      "77/77 [==============================] - 0s 3ms/step - loss: 0.5517 - accuracy: 0.7188\n",
      "Epoch 47/150\n",
      "77/77 [==============================] - 0s 2ms/step - loss: 0.5487 - accuracy: 0.7266\n",
      "Epoch 48/150\n",
      "77/77 [==============================] - 0s 2ms/step - loss: 0.5463 - accuracy: 0.7305\n",
      "Epoch 49/150\n",
      "77/77 [==============================] - 0s 2ms/step - loss: 0.5472 - accuracy: 0.7188\n",
      "Epoch 50/150\n",
      "77/77 [==============================] - 0s 2ms/step - loss: 0.5398 - accuracy: 0.7266\n",
      "Epoch 51/150\n",
      "77/77 [==============================] - 0s 2ms/step - loss: 0.5479 - accuracy: 0.7214\n",
      "Epoch 52/150\n",
      "77/77 [==============================] - 0s 2ms/step - loss: 0.5311 - accuracy: 0.7487\n",
      "Epoch 53/150\n",
      "77/77 [==============================] - 0s 2ms/step - loss: 0.5398 - accuracy: 0.7279\n",
      "Epoch 54/150\n",
      "77/77 [==============================] - 0s 2ms/step - loss: 0.5429 - accuracy: 0.7331\n",
      "Epoch 55/150\n",
      "77/77 [==============================] - 0s 2ms/step - loss: 0.5439 - accuracy: 0.7383\n",
      "Epoch 56/150\n",
      "77/77 [==============================] - 0s 4ms/step - loss: 0.5434 - accuracy: 0.7279\n",
      "Epoch 57/150\n",
      "77/77 [==============================] - 0s 3ms/step - loss: 0.5344 - accuracy: 0.7409\n",
      "Epoch 58/150\n",
      "77/77 [==============================] - 0s 5ms/step - loss: 0.5271 - accuracy: 0.7448\n",
      "Epoch 59/150\n",
      "77/77 [==============================] - 0s 4ms/step - loss: 0.5365 - accuracy: 0.7357\n",
      "Epoch 60/150\n",
      "77/77 [==============================] - 0s 4ms/step - loss: 0.5353 - accuracy: 0.7292\n",
      "Epoch 61/150\n",
      "77/77 [==============================] - 0s 4ms/step - loss: 0.5455 - accuracy: 0.7148\n",
      "Epoch 62/150\n",
      "77/77 [==============================] - 0s 3ms/step - loss: 0.5494 - accuracy: 0.7174\n",
      "Epoch 63/150\n",
      "77/77 [==============================] - 0s 5ms/step - loss: 0.5293 - accuracy: 0.7435\n",
      "Epoch 64/150\n",
      "77/77 [==============================] - 0s 5ms/step - loss: 0.5336 - accuracy: 0.7409\n",
      "Epoch 65/150\n",
      "77/77 [==============================] - 0s 4ms/step - loss: 0.5414 - accuracy: 0.7305\n",
      "Epoch 66/150\n",
      "77/77 [==============================] - 0s 5ms/step - loss: 0.5241 - accuracy: 0.7396\n",
      "Epoch 67/150\n",
      "77/77 [==============================] - 0s 5ms/step - loss: 0.5343 - accuracy: 0.7344\n",
      "Epoch 68/150\n",
      "77/77 [==============================] - 0s 4ms/step - loss: 0.5259 - accuracy: 0.7435\n",
      "Epoch 69/150\n",
      "77/77 [==============================] - 0s 4ms/step - loss: 0.5406 - accuracy: 0.7201\n",
      "Epoch 70/150\n",
      "77/77 [==============================] - 0s 4ms/step - loss: 0.5265 - accuracy: 0.7474\n",
      "Epoch 71/150\n",
      "77/77 [==============================] - 0s 4ms/step - loss: 0.5494 - accuracy: 0.7214\n",
      "Epoch 72/150\n",
      "77/77 [==============================] - 0s 4ms/step - loss: 0.5276 - accuracy: 0.7240\n",
      "Epoch 73/150\n",
      "77/77 [==============================] - 0s 4ms/step - loss: 0.5164 - accuracy: 0.7396\n",
      "Epoch 74/150\n",
      "77/77 [==============================] - 0s 4ms/step - loss: 0.5455 - accuracy: 0.7383\n",
      "Epoch 75/150\n",
      "77/77 [==============================] - 0s 4ms/step - loss: 0.5452 - accuracy: 0.7318\n",
      "Epoch 76/150\n",
      "77/77 [==============================] - 0s 4ms/step - loss: 0.5230 - accuracy: 0.7357\n",
      "Epoch 77/150\n",
      "77/77 [==============================] - 0s 4ms/step - loss: 0.5272 - accuracy: 0.7370\n",
      "Epoch 78/150\n",
      "77/77 [==============================] - 0s 4ms/step - loss: 0.5278 - accuracy: 0.7292\n",
      "Epoch 79/150\n",
      "77/77 [==============================] - 0s 4ms/step - loss: 0.5176 - accuracy: 0.7578\n",
      "Epoch 80/150\n",
      "77/77 [==============================] - 0s 4ms/step - loss: 0.5226 - accuracy: 0.7409\n",
      "Epoch 81/150\n",
      "77/77 [==============================] - 0s 4ms/step - loss: 0.5206 - accuracy: 0.7370\n",
      "Epoch 82/150\n",
      "77/77 [==============================] - 0s 4ms/step - loss: 0.5111 - accuracy: 0.7396\n",
      "Epoch 83/150\n"
     ]
    },
    {
     "name": "stdout",
     "output_type": "stream",
     "text": [
      "77/77 [==============================] - 0s 4ms/step - loss: 0.5261 - accuracy: 0.7357\n",
      "Epoch 84/150\n",
      "77/77 [==============================] - 0s 4ms/step - loss: 0.5234 - accuracy: 0.7435\n",
      "Epoch 85/150\n",
      "77/77 [==============================] - 0s 4ms/step - loss: 0.5386 - accuracy: 0.7240\n",
      "Epoch 86/150\n",
      "77/77 [==============================] - 0s 4ms/step - loss: 0.5149 - accuracy: 0.7513\n",
      "Epoch 87/150\n",
      "77/77 [==============================] - 0s 4ms/step - loss: 0.5175 - accuracy: 0.7539\n",
      "Epoch 88/150\n",
      "77/77 [==============================] - 0s 4ms/step - loss: 0.5151 - accuracy: 0.7526\n",
      "Epoch 89/150\n",
      "77/77 [==============================] - 0s 4ms/step - loss: 0.5096 - accuracy: 0.7461\n",
      "Epoch 90/150\n",
      "77/77 [==============================] - 0s 4ms/step - loss: 0.5185 - accuracy: 0.7318\n",
      "Epoch 91/150\n",
      "77/77 [==============================] - 0s 4ms/step - loss: 0.5049 - accuracy: 0.7500\n",
      "Epoch 92/150\n",
      "77/77 [==============================] - 0s 4ms/step - loss: 0.5407 - accuracy: 0.7161\n",
      "Epoch 93/150\n",
      "77/77 [==============================] - 0s 4ms/step - loss: 0.5220 - accuracy: 0.7409\n",
      "Epoch 94/150\n",
      "77/77 [==============================] - 0s 4ms/step - loss: 0.5097 - accuracy: 0.7435\n",
      "Epoch 95/150\n",
      "77/77 [==============================] - 0s 2ms/step - loss: 0.5122 - accuracy: 0.7487\n",
      "Epoch 96/150\n",
      "77/77 [==============================] - 0s 2ms/step - loss: 0.5103 - accuracy: 0.7526\n",
      "Epoch 97/150\n",
      "77/77 [==============================] - 0s 3ms/step - loss: 0.4994 - accuracy: 0.7669\n",
      "Epoch 98/150\n",
      "77/77 [==============================] - 0s 4ms/step - loss: 0.5012 - accuracy: 0.7682\n",
      "Epoch 99/150\n",
      "77/77 [==============================] - 0s 4ms/step - loss: 0.5074 - accuracy: 0.7500\n",
      "Epoch 100/150\n",
      "77/77 [==============================] - 0s 5ms/step - loss: 0.5023 - accuracy: 0.7630\n",
      "Epoch 101/150\n",
      "77/77 [==============================] - 0s 4ms/step - loss: 0.4999 - accuracy: 0.7526\n",
      "Epoch 102/150\n",
      "77/77 [==============================] - 0s 4ms/step - loss: 0.4987 - accuracy: 0.7526\n",
      "Epoch 103/150\n",
      "77/77 [==============================] - 0s 4ms/step - loss: 0.4985 - accuracy: 0.7682\n",
      "Epoch 104/150\n",
      "77/77 [==============================] - 0s 4ms/step - loss: 0.5069 - accuracy: 0.7539\n",
      "Epoch 105/150\n",
      "77/77 [==============================] - 0s 4ms/step - loss: 0.5079 - accuracy: 0.7448\n",
      "Epoch 106/150\n",
      "77/77 [==============================] - 0s 5ms/step - loss: 0.5029 - accuracy: 0.7474\n",
      "Epoch 107/150\n",
      "77/77 [==============================] - 0s 3ms/step - loss: 0.5020 - accuracy: 0.7695\n",
      "Epoch 108/150\n",
      "77/77 [==============================] - 0s 4ms/step - loss: 0.5157 - accuracy: 0.7474\n",
      "Epoch 109/150\n",
      "77/77 [==============================] - 0s 4ms/step - loss: 0.5024 - accuracy: 0.7578\n",
      "Epoch 110/150\n",
      "77/77 [==============================] - 0s 4ms/step - loss: 0.5053 - accuracy: 0.7617\n",
      "Epoch 111/150\n",
      "77/77 [==============================] - 0s 5ms/step - loss: 0.4937 - accuracy: 0.7643\n",
      "Epoch 112/150\n",
      "77/77 [==============================] - 0s 2ms/step - loss: 0.4997 - accuracy: 0.7565\n",
      "Epoch 113/150\n",
      "77/77 [==============================] - 0s 2ms/step - loss: 0.4896 - accuracy: 0.7721\n",
      "Epoch 114/150\n",
      "77/77 [==============================] - 0s 2ms/step - loss: 0.4904 - accuracy: 0.7656\n",
      "Epoch 115/150\n",
      "77/77 [==============================] - 0s 3ms/step - loss: 0.4906 - accuracy: 0.7734\n",
      "Epoch 116/150\n",
      "77/77 [==============================] - 0s 3ms/step - loss: 0.4956 - accuracy: 0.7630\n",
      "Epoch 117/150\n",
      "77/77 [==============================] - 0s 3ms/step - loss: 0.5111 - accuracy: 0.7461\n",
      "Epoch 118/150\n",
      "77/77 [==============================] - 0s 3ms/step - loss: 0.4884 - accuracy: 0.7604\n",
      "Epoch 119/150\n",
      "77/77 [==============================] - 0s 3ms/step - loss: 0.4857 - accuracy: 0.7643\n",
      "Epoch 120/150\n",
      "77/77 [==============================] - 0s 3ms/step - loss: 0.4898 - accuracy: 0.7539\n",
      "Epoch 121/150\n",
      "77/77 [==============================] - 0s 3ms/step - loss: 0.4855 - accuracy: 0.7747\n",
      "Epoch 122/150\n",
      "77/77 [==============================] - 0s 4ms/step - loss: 0.4949 - accuracy: 0.7643\n",
      "Epoch 123/150\n",
      "77/77 [==============================] - 0s 4ms/step - loss: 0.4832 - accuracy: 0.7682\n",
      "Epoch 124/150\n",
      "77/77 [==============================] - 0s 2ms/step - loss: 0.4843 - accuracy: 0.7526\n",
      "Epoch 125/150\n",
      "77/77 [==============================] - 0s 2ms/step - loss: 0.4816 - accuracy: 0.7617\n",
      "Epoch 126/150\n",
      "77/77 [==============================] - 0s 3ms/step - loss: 0.4815 - accuracy: 0.7682\n",
      "Epoch 127/150\n",
      "77/77 [==============================] - 0s 3ms/step - loss: 0.4845 - accuracy: 0.7578\n",
      "Epoch 128/150\n",
      "77/77 [==============================] - 0s 3ms/step - loss: 0.4945 - accuracy: 0.7617\n",
      "Epoch 129/150\n",
      "77/77 [==============================] - 0s 3ms/step - loss: 0.4793 - accuracy: 0.7721\n",
      "Epoch 130/150\n",
      "77/77 [==============================] - 0s 3ms/step - loss: 0.4853 - accuracy: 0.7760\n",
      "Epoch 131/150\n",
      "77/77 [==============================] - 0s 4ms/step - loss: 0.4869 - accuracy: 0.7604\n",
      "Epoch 132/150\n",
      "77/77 [==============================] - 0s 4ms/step - loss: 0.4917 - accuracy: 0.7695\n",
      "Epoch 133/150\n",
      "77/77 [==============================] - 0s 3ms/step - loss: 0.4838 - accuracy: 0.7578\n",
      "Epoch 134/150\n",
      "77/77 [==============================] - 0s 2ms/step - loss: 0.4911 - accuracy: 0.7617\n",
      "Epoch 135/150\n",
      "77/77 [==============================] - 0s 2ms/step - loss: 0.4939 - accuracy: 0.7604\n",
      "Epoch 136/150\n",
      "77/77 [==============================] - 0s 2ms/step - loss: 0.5027 - accuracy: 0.7682\n",
      "Epoch 137/150\n",
      "77/77 [==============================] - 0s 3ms/step - loss: 0.4709 - accuracy: 0.7799\n",
      "Epoch 138/150\n",
      "77/77 [==============================] - 0s 4ms/step - loss: 0.4768 - accuracy: 0.7708\n",
      "Epoch 139/150\n",
      "77/77 [==============================] - 0s 4ms/step - loss: 0.4957 - accuracy: 0.7682\n",
      "Epoch 140/150\n",
      "77/77 [==============================] - 0s 3ms/step - loss: 0.4854 - accuracy: 0.7552\n",
      "Epoch 141/150\n",
      "77/77 [==============================] - 0s 2ms/step - loss: 0.4760 - accuracy: 0.7656\n",
      "Epoch 142/150\n",
      "77/77 [==============================] - 0s 2ms/step - loss: 0.4810 - accuracy: 0.7682\n",
      "Epoch 143/150\n",
      "77/77 [==============================] - 0s 4ms/step - loss: 0.4802 - accuracy: 0.7760\n",
      "Epoch 144/150\n",
      "77/77 [==============================] - 0s 5ms/step - loss: 0.4684 - accuracy: 0.7721\n",
      "Epoch 145/150\n",
      "77/77 [==============================] - 0s 5ms/step - loss: 0.4708 - accuracy: 0.7695\n",
      "Epoch 146/150\n",
      "77/77 [==============================] - 0s 4ms/step - loss: 0.4847 - accuracy: 0.7513\n",
      "Epoch 147/150\n",
      "77/77 [==============================] - 0s 4ms/step - loss: 0.4786 - accuracy: 0.7708\n",
      "Epoch 148/150\n",
      "77/77 [==============================] - 0s 4ms/step - loss: 0.4775 - accuracy: 0.7786\n",
      "Epoch 149/150\n",
      "77/77 [==============================] - 0s 4ms/step - loss: 0.4837 - accuracy: 0.7617\n",
      "Epoch 150/150\n",
      "77/77 [==============================] - 0s 3ms/step - loss: 0.4751 - accuracy: 0.7734\n"
     ]
    },
    {
     "data": {
      "text/plain": [
       "<keras.callbacks.History at 0x1f17422abb0>"
      ]
     },
     "execution_count": 16,
     "metadata": {},
     "output_type": "execute_result"
    }
   ],
   "source": [
    "#if the batch size is small, it will update more often and may be slower. Choose something reasonable\n",
    "model.fit(X, Y, epochs=150, batch_size=10)"
   ]
  },
  {
   "cell_type": "markdown",
   "id": "a909bb52",
   "metadata": {},
   "source": [
    "### Prediction on some random patient: \n",
    "#### 39.6% chance of having diabetes according to this model"
   ]
  },
  {
   "cell_type": "code",
   "execution_count": 34,
   "id": "b6e27811",
   "metadata": {},
   "outputs": [
    {
     "name": "stdout",
     "output_type": "stream",
     "text": [
      "1/1 [==============================] - 0s 40ms/step\n",
      "0.39638242\n"
     ]
    }
   ],
   "source": [
    "Xt = np.array([0., 150., 80., 40., 0, 25., 0.6, 27.])\n",
    "Xt = Xt.reshape((1,8))\n",
    "pred = model.predict(Xt)\n",
    "print(pred[0][0])"
   ]
  }
 ],
 "metadata": {
  "kernelspec": {
   "display_name": "Python 3",
   "language": "python",
   "name": "python3"
  },
  "language_info": {
   "codemirror_mode": {
    "name": "ipython",
    "version": 3
   },
   "file_extension": ".py",
   "mimetype": "text/x-python",
   "name": "python",
   "nbconvert_exporter": "python",
   "pygments_lexer": "ipython3",
   "version": "3.9.12"
  }
 },
 "nbformat": 4,
 "nbformat_minor": 5
}
